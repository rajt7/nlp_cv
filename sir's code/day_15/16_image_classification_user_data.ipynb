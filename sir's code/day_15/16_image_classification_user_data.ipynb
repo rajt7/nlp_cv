{
 "cells": [
  {
   "cell_type": "code",
   "execution_count": 1,
   "metadata": {},
   "outputs": [
    {
     "name": "stderr",
     "output_type": "stream",
     "text": [
      "2023-12-27 08:52:40.237361: I tensorflow/core/util/port.cc:113] oneDNN custom operations are on. You may see slightly different numerical results due to floating-point round-off errors from different computation orders. To turn them off, set the environment variable `TF_ENABLE_ONEDNN_OPTS=0`.\n",
      "2023-12-27 08:52:40.287666: E external/local_xla/xla/stream_executor/cuda/cuda_dnn.cc:9261] Unable to register cuDNN factory: Attempting to register factory for plugin cuDNN when one has already been registered\n",
      "2023-12-27 08:52:40.287700: E external/local_xla/xla/stream_executor/cuda/cuda_fft.cc:607] Unable to register cuFFT factory: Attempting to register factory for plugin cuFFT when one has already been registered\n",
      "2023-12-27 08:52:40.289017: E external/local_xla/xla/stream_executor/cuda/cuda_blas.cc:1515] Unable to register cuBLAS factory: Attempting to register factory for plugin cuBLAS when one has already been registered\n",
      "2023-12-27 08:52:40.297190: I tensorflow/core/platform/cpu_feature_guard.cc:182] This TensorFlow binary is optimized to use available CPU instructions in performance-critical operations.\n",
      "To enable the following instructions: AVX2 AVX512F AVX512_VNNI FMA, in other operations, rebuild TensorFlow with the appropriate compiler flags.\n",
      "2023-12-27 08:52:41.194994: W tensorflow/compiler/tf2tensorrt/utils/py_utils.cc:38] TF-TRT Warning: Could not find TensorRT\n"
     ]
    }
   ],
   "source": [
    "from keras.preprocessing.image import ImageDataGenerator\n",
    "from keras.models import Sequential\n",
    "from keras.layers import Dense, Conv2D, MaxPool2D, Flatten"
   ]
  },
  {
   "cell_type": "code",
   "execution_count": 2,
   "metadata": {},
   "outputs": [],
   "source": [
    "train_datagen = ImageDataGenerator(rescale=1/255,\n",
    "                                   shear_range=0.2,\n",
    "                                   zoom_range=0.2,\n",
    "                                   horizontal_flip=True)"
   ]
  },
  {
   "cell_type": "code",
   "execution_count": 3,
   "metadata": {},
   "outputs": [],
   "source": [
    "test_datagen = ImageDataGenerator(rescale=1/255)"
   ]
  },
  {
   "cell_type": "code",
   "execution_count": 4,
   "metadata": {},
   "outputs": [
    {
     "name": "stdout",
     "output_type": "stream",
     "text": [
      "Found 13 images belonging to 2 classes.\n"
     ]
    }
   ],
   "source": [
    "train = train_datagen.flow_from_directory(\"../images/fruits/training_set\",\n",
    "                                          class_mode='binary',\n",
    "                                          target_size=(64, 64))\n"
   ]
  },
  {
   "cell_type": "code",
   "execution_count": 5,
   "metadata": {},
   "outputs": [
    {
     "name": "stdout",
     "output_type": "stream",
     "text": [
      "Found 6 images belonging to 2 classes.\n"
     ]
    }
   ],
   "source": [
    "test = train_datagen.flow_from_directory(\"../images/fruits/test_set\",\n",
    "                                          class_mode='binary',\n",
    "                                          target_size=(64, 64))"
   ]
  },
  {
   "cell_type": "markdown",
   "metadata": {},
   "source": [
    "### Build the Model"
   ]
  },
  {
   "cell_type": "code",
   "execution_count": 6,
   "metadata": {},
   "outputs": [
    {
     "name": "stdout",
     "output_type": "stream",
     "text": [
      "Model: \"sequential\"\n",
      "_________________________________________________________________\n",
      " Layer (type)                Output Shape              Param #   \n",
      "=================================================================\n",
      " conv2d (Conv2D)             (None, 62, 62, 16)        448       \n",
      "                                                                 \n",
      " max_pooling2d (MaxPooling2  (None, 31, 31, 16)        0         \n",
      " D)                                                              \n",
      "                                                                 \n",
      " conv2d_1 (Conv2D)           (None, 29, 29, 8)         1160      \n",
      "                                                                 \n",
      " max_pooling2d_1 (MaxPoolin  (None, 14, 14, 8)         0         \n",
      " g2D)                                                            \n",
      "                                                                 \n",
      " flatten (Flatten)           (None, 1568)              0         \n",
      "                                                                 \n",
      " dense (Dense)               (None, 16)                25104     \n",
      "                                                                 \n",
      " dense_1 (Dense)             (None, 1)                 17        \n",
      "                                                                 \n",
      "=================================================================\n",
      "Total params: 26729 (104.41 KB)\n",
      "Trainable params: 26729 (104.41 KB)\n",
      "Non-trainable params: 0 (0.00 Byte)\n",
      "_________________________________________________________________\n"
     ]
    }
   ],
   "source": [
    "model = Sequential()\n",
    "\n",
    "model.add(Conv2D(filters=16, kernel_size=(3,3), input_shape=(64,64,3), activation='relu'))\n",
    "model.add(MaxPool2D(pool_size=(2,2)))\n",
    "\n",
    "model.add(Conv2D(filters=8, kernel_size=(3,3), activation='relu'))\n",
    "model.add(MaxPool2D(pool_size=(2,2)))\n",
    "\n",
    "model.add(Flatten())\n",
    "model.add(Dense(16, activation='relu'))\n",
    "model.add(Dense(1, activation='sigmoid'))\n",
    "\n",
    "model.summary()"
   ]
  },
  {
   "cell_type": "code",
   "execution_count": 7,
   "metadata": {},
   "outputs": [],
   "source": [
    "model.compile(loss='binary_crossentropy', optimizer='adam', metrics=['accuracy'])"
   ]
  },
  {
   "cell_type": "code",
   "execution_count": 8,
   "metadata": {},
   "outputs": [
    {
     "name": "stdout",
     "output_type": "stream",
     "text": [
      "Epoch 1/20\n",
      "1/1 [==============================] - 1s 1s/step - loss: 0.6867 - accuracy: 0.5385 - val_loss: 0.6514 - val_accuracy: 0.8333\n",
      "Epoch 2/20\n",
      "1/1 [==============================] - 0s 204ms/step - loss: 0.6793 - accuracy: 0.3846 - val_loss: 0.6597 - val_accuracy: 0.5000\n",
      "Epoch 3/20\n",
      "1/1 [==============================] - 0s 187ms/step - loss: 0.6660 - accuracy: 0.6154 - val_loss: 0.6213 - val_accuracy: 0.8333\n",
      "Epoch 4/20\n",
      "1/1 [==============================] - 0s 197ms/step - loss: 0.6333 - accuracy: 0.8462 - val_loss: 0.6384 - val_accuracy: 0.8333\n",
      "Epoch 5/20\n",
      "1/1 [==============================] - 0s 190ms/step - loss: 0.6325 - accuracy: 0.7692 - val_loss: 0.6188 - val_accuracy: 0.8333\n",
      "Epoch 6/20\n",
      "1/1 [==============================] - 0s 197ms/step - loss: 0.5813 - accuracy: 0.7692 - val_loss: 0.6299 - val_accuracy: 0.6667\n",
      "Epoch 7/20\n",
      "1/1 [==============================] - 0s 209ms/step - loss: 0.5722 - accuracy: 0.6154 - val_loss: 0.6291 - val_accuracy: 0.6667\n",
      "Epoch 8/20\n",
      "1/1 [==============================] - 0s 185ms/step - loss: 0.6130 - accuracy: 0.5385 - val_loss: 0.5449 - val_accuracy: 0.8333\n",
      "Epoch 9/20\n",
      "1/1 [==============================] - 0s 197ms/step - loss: 0.5238 - accuracy: 0.8462 - val_loss: 0.5667 - val_accuracy: 0.8333\n",
      "Epoch 10/20\n",
      "1/1 [==============================] - 0s 223ms/step - loss: 0.5106 - accuracy: 0.9231 - val_loss: 0.5287 - val_accuracy: 0.8333\n",
      "Epoch 11/20\n",
      "1/1 [==============================] - 0s 200ms/step - loss: 0.5133 - accuracy: 0.8462 - val_loss: 0.6133 - val_accuracy: 0.6667\n",
      "Epoch 12/20\n",
      "1/1 [==============================] - 0s 199ms/step - loss: 0.5019 - accuracy: 0.8462 - val_loss: 0.4546 - val_accuracy: 0.8333\n",
      "Epoch 13/20\n",
      "1/1 [==============================] - 0s 157ms/step - loss: 0.3715 - accuracy: 0.9231 - val_loss: 0.4494 - val_accuracy: 1.0000\n",
      "Epoch 14/20\n",
      "1/1 [==============================] - 0s 208ms/step - loss: 0.3463 - accuracy: 1.0000 - val_loss: 0.4423 - val_accuracy: 0.8333\n",
      "Epoch 15/20\n",
      "1/1 [==============================] - 0s 218ms/step - loss: 0.3862 - accuracy: 0.9231 - val_loss: 0.4624 - val_accuracy: 0.8333\n",
      "Epoch 16/20\n",
      "1/1 [==============================] - 0s 182ms/step - loss: 0.4896 - accuracy: 0.6923 - val_loss: 0.3192 - val_accuracy: 1.0000\n",
      "Epoch 17/20\n",
      "1/1 [==============================] - 0s 187ms/step - loss: 0.2787 - accuracy: 0.9231 - val_loss: 0.2537 - val_accuracy: 1.0000\n",
      "Epoch 18/20\n",
      "1/1 [==============================] - 0s 194ms/step - loss: 0.3231 - accuracy: 0.9231 - val_loss: 0.2854 - val_accuracy: 1.0000\n",
      "Epoch 19/20\n",
      "1/1 [==============================] - 0s 201ms/step - loss: 0.2541 - accuracy: 0.8462 - val_loss: 0.3015 - val_accuracy: 1.0000\n",
      "Epoch 20/20\n",
      "1/1 [==============================] - 0s 198ms/step - loss: 0.3446 - accuracy: 0.8462 - val_loss: 0.2697 - val_accuracy: 1.0000\n"
     ]
    }
   ],
   "source": [
    "history = model.fit(train, epochs=20, validation_data=test)"
   ]
  },
  {
   "cell_type": "code",
   "execution_count": 10,
   "metadata": {},
   "outputs": [
    {
     "data": {
      "text/plain": [
       "<matplotlib.legend.Legend at 0x7f01deb49450>"
      ]
     },
     "execution_count": 10,
     "metadata": {},
     "output_type": "execute_result"
    },
    {
     "data": {
      "image/png": "[encoded data removed]",
      "text/plain": [
       "<Figure size 640x480 with 1 Axes>"
      ]
     },
     "metadata": {},
     "output_type": "display_data"
    }
   ],
   "source": [
    "import matplotlib.pyplot as plt\n",
    "\n",
    "plt.plot(history.history['accuracy'], label='accuracy')\n",
    "plt.plot(history.history['val_accuracy'], label = 'val_accuracy')\n",
    "plt.xlabel('Epoch')\n",
    "plt.ylabel('Accuracy')\n",
    "plt.ylim([0.5, 1])\n",
    "plt.legend(loc='lower right')"
   ]
  },
  {
   "cell_type": "markdown",
   "metadata": {},
   "source": [
    "### Predicting the Model"
   ]
  },
  {
   "cell_type": "code",
   "execution_count": 26,
   "metadata": {},
   "outputs": [
    {
     "name": "stdout",
     "output_type": "stream",
     "text": [
      "1/1 [==============================] - 0s 98ms/step\n"
     ]
    },
    {
     "data": {
      "text/plain": [
       "array([[1.]], dtype=float32)"
      ]
     },
     "execution_count": 26,
     "metadata": {},
     "output_type": "execute_result"
    }
   ],
   "source": [
    "# First Way\n",
    "\n",
    "from PIL import Image\n",
    "import numpy as np\n",
    "\n",
    "sample_img = Image.open('../images/fruits/sample1.jpg')\n",
    "sample_img = sample_img.resize((64,64))\n",
    "sample_img = np.array(sample_img)\n",
    "sample_img = sample_img.reshape(1,64,64,3)\n",
    "\n",
    "model.predict(sample_img)"
   ]
  },
  {
   "cell_type": "code",
   "execution_count": 28,
   "metadata": {},
   "outputs": [
    {
     "data": {
      "image/jpeg": "[encoded data removed]",
      "image/png": "[encoded data removed]",
      "text/plain": [
       "<PIL.Image.Image image mode=RGB size=64x64>"
      ]
     },
     "execution_count": 28,
     "metadata": {},
     "output_type": "execute_result"
    }
   ],
   "source": [
    "# Alternate Way\n",
    "\n",
    "from tensorflow.keras.preprocessing.image import load_img, img_to_array\n",
    "\n",
    "test_image = load_img('../images/fruits/sample1.jpg', target_size=(64,64))\n",
    "test_image"
   ]
  },
  {
   "cell_type": "code",
   "execution_count": 29,
   "metadata": {},
   "outputs": [
    {
     "data": {
      "text/plain": [
       "(1, 64, 64, 3)"
      ]
     },
     "execution_count": 29,
     "metadata": {},
     "output_type": "execute_result"
    }
   ],
   "source": [
    "test_image = img_to_array(test_image)\n",
    "test_image = np.expand_dims(test_image, axis=0)\n",
    "test_image.shape"
   ]
  },
  {
   "cell_type": "code",
   "execution_count": 31,
   "metadata": {},
   "outputs": [
    {
     "data": {
      "text/plain": [
       "1.0"
      ]
     },
     "execution_count": 31,
     "metadata": {},
     "output_type": "execute_result"
    }
   ],
   "source": [
    "model.predict(test_image, verbose=0)[0][0]"
   ]
  }
 ],
 "metadata": {
  "kernelspec": {
   "display_name": "dnn",
   "language": "python",
   "name": "python3"
  },
  "language_info": {
   "codemirror_mode": {
    "name": "ipython",
    "version": 3
   },
   "file_extension": ".py",
   "mimetype": "text/x-python",
   "name": "python",
   "nbconvert_exporter": "python",
   "pygments_lexer": "ipython3",
   "version": "3.11.5"
  },
  "orig_nbformat": 4
 },
 "nbformat": 4,
 "nbformat_minor": 2
}
