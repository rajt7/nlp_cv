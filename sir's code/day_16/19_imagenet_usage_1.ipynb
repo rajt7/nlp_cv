{
 "cells": [
  {
   "cell_type": "code",
   "execution_count": 2,
   "metadata": {},
   "outputs": [
    {
     "name": "stderr",
     "output_type": "stream",
     "text": [
      "2023-12-27 17:58:29.740424: I tensorflow/core/util/port.cc:113] oneDNN custom operations are on. You may see slightly different numerical results due to floating-point round-off errors from different computation orders. To turn them off, set the environment variable `TF_ENABLE_ONEDNN_OPTS=0`.\n",
      "2023-12-27 17:58:31.961724: E external/local_xla/xla/stream_executor/cuda/cuda_dnn.cc:9261] Unable to register cuDNN factory: Attempting to register factory for plugin cuDNN when one has already been registered\n",
      "2023-12-27 17:58:31.961942: E external/local_xla/xla/stream_executor/cuda/cuda_fft.cc:607] Unable to register cuFFT factory: Attempting to register factory for plugin cuFFT when one has already been registered\n",
      "2023-12-27 17:58:32.176155: E external/local_xla/xla/stream_executor/cuda/cuda_blas.cc:1515] Unable to register cuBLAS factory: Attempting to register factory for plugin cuBLAS when one has already been registered\n",
      "2023-12-27 17:58:32.779910: I tensorflow/core/platform/cpu_feature_guard.cc:182] This TensorFlow binary is optimized to use available CPU instructions in performance-critical operations.\n",
      "To enable the following instructions: AVX2 AVX512F AVX512_VNNI FMA, in other operations, rebuild TensorFlow with the appropriate compiler flags.\n",
      "2023-12-27 17:58:48.112744: W tensorflow/compiler/tf2tensorrt/utils/py_utils.cc:38] TF-TRT Warning: Could not find TensorRT\n"
     ]
    }
   ],
   "source": [
    "import tensorflow as tf\n",
    "from tensorflow.keras.models import Sequential\n",
    "from tensorflow.keras.layers import Dense, Flatten, Conv2D, MaxPool2D, Dropout\n",
    "from pathlib import Path"
   ]
  },
  {
   "cell_type": "code",
   "execution_count": 3,
   "metadata": {},
   "outputs": [
    {
     "data": {
      "text/plain": [
       "(PosixPath('../data/imagenet-new'), PosixPath('../data/imagenet-new/train'))"
      ]
     },
     "execution_count": 3,
     "metadata": {},
     "output_type": "execute_result"
    }
   ],
   "source": [
    "# Setting up the data directory path\n",
    "data_dir = Path('../data/imagenet-new/')\n",
    "\n",
    "train_dir = data_dir / 'train'\n",
    "\n",
    "data_dir, train_dir"
   ]
  },
  {
   "cell_type": "markdown",
   "metadata": {},
   "source": [
    "### Load Data\n",
    "\n",
    "Using `tf.keras.utils.image_dataset_from_directory`"
   ]
  },
  {
   "cell_type": "code",
   "execution_count": 4,
   "metadata": {},
   "outputs": [
    {
     "name": "stdout",
     "output_type": "stream",
     "text": [
      "Found 5000 files belonging to 10 classes.\n",
      "Using 4000 files for training.\n",
      "Found 5000 files belonging to 10 classes.\n",
      "Using 1000 files for validation.\n"
     ]
    }
   ],
   "source": [
    "# Some parameters for the loader\n",
    "batch_size=32\n",
    "img_width=64\n",
    "img_height=64\n",
    "\n",
    "train_dataset = tf.keras.utils.image_dataset_from_directory(train_dir,\n",
    "                                                            validation_split=0.2,\n",
    "                                                            subset='training',\n",
    "                                                            seed=42,\n",
    "                                                            image_size=(img_height, img_width),\n",
    "                                                            batch_size=batch_size)\n",
    "\n",
    "test_dataset = tf.keras.utils.image_dataset_from_directory(train_dir,\n",
    "                                                           validation_split=0.2,\n",
    "                                                           subset='validation',\n",
    "                                                           seed=42,\n",
    "                                                           image_size=(img_height, img_width),\n",
    "                                                           batch_size=batch_size)"
   ]
  },
  {
   "cell_type": "code",
   "execution_count": 5,
   "metadata": {},
   "outputs": [
    {
     "data": {
      "text/plain": [
       "['crocodile',\n",
       " 'fish',\n",
       " 'fossils',\n",
       " 'frog',\n",
       " 'insect',\n",
       " 'reptiles',\n",
       " 'scorpion',\n",
       " 'snake',\n",
       " 'spider',\n",
       " 'toad']"
      ]
     },
     "execution_count": 5,
     "metadata": {},
     "output_type": "execute_result"
    }
   ],
   "source": [
    "train_dataset.class_names"
   ]
  },
  {
   "cell_type": "markdown",
   "metadata": {},
   "source": [
    "### Build the Model"
   ]
  },
  {
   "cell_type": "code",
   "execution_count": 9,
   "metadata": {},
   "outputs": [
    {
     "name": "stdout",
     "output_type": "stream",
     "text": [
      "Model: \"sequential_2\"\n",
      "_________________________________________________________________\n",
      " Layer (type)                Output Shape              Param #   \n",
      "=================================================================\n",
      " conv2d_4 (Conv2D)           (None, 62, 62, 8)         224       \n",
      "                                                                 \n",
      " max_pooling2d_4 (MaxPoolin  (None, 31, 31, 8)         0         \n",
      " g2D)                                                            \n",
      "                                                                 \n",
      " conv2d_5 (Conv2D)           (None, 29, 29, 16)        1168      \n",
      "                                                                 \n",
      " max_pooling2d_5 (MaxPoolin  (None, 14, 14, 16)        0         \n",
      " g2D)                                                            \n",
      "                                                                 \n",
      " flatten_2 (Flatten)         (None, 3136)              0         \n",
      "                                                                 \n",
      " dense_4 (Dense)             (None, 1028)              3224836   \n",
      "                                                                 \n",
      " dense_5 (Dense)             (None, 2556)              2630124   \n",
      "                                                                 \n",
      " dense_6 (Dense)             (None, 10)                25570     \n",
      "                                                                 \n",
      "=================================================================\n",
      "Total params: 5881922 (22.44 MB)\n",
      "Trainable params: 5881922 (22.44 MB)\n",
      "Non-trainable params: 0 (0.00 Byte)\n",
      "_________________________________________________________________\n"
     ]
    }
   ],
   "source": [
    "model = Sequential([\n",
    "    Conv2D(8, (3,3), activation='relu', input_shape=(64,64,3)),\n",
    "    MaxPool2D((2,2)),\n",
    "    Conv2D(16, (3,3), activation='relu'),\n",
    "    MaxPool2D((2,2)),\n",
    "    Flatten(),\n",
    "    Dense(1028, activation='relu'),\n",
    "    Dense(10, activation='softmax')\n",
    "])\n",
    "\n",
    "model.summary()"
   ]
  },
  {
   "cell_type": "code",
   "execution_count": 14,
   "metadata": {},
   "outputs": [],
   "source": [
    "model.compile(loss='sparse_categorical_crossentropy', optimizer='adam', metrics=['accuracy'])"
   ]
  },
  {
   "cell_type": "code",
   "execution_count": 16,
   "metadata": {},
   "outputs": [
    {
     "name": "stdout",
     "output_type": "stream",
     "text": [
      "Epoch 1/50\n"
     ]
    },
    {
     "name": "stdout",
     "output_type": "stream",
     "text": [
      "125/125 [==============================] - 6s 46ms/step - loss: 1.9413 - accuracy: 0.3007 - val_loss: 1.9178 - val_accuracy: 0.3190\n",
      "Epoch 2/50\n",
      "125/125 [==============================] - 6s 46ms/step - loss: 1.7486 - accuracy: 0.3735 - val_loss: 2.0229 - val_accuracy: 0.3000\n",
      "Epoch 3/50\n",
      "125/125 [==============================] - 6s 46ms/step - loss: 1.5403 - accuracy: 0.4597 - val_loss: 2.0593 - val_accuracy: 0.3160\n",
      "Epoch 4/50\n",
      "125/125 [==============================] - 6s 46ms/step - loss: 1.2889 - accuracy: 0.5460 - val_loss: 2.3228 - val_accuracy: 0.3100\n",
      "Epoch 5/50\n",
      "125/125 [==============================] - 6s 44ms/step - loss: 1.0882 - accuracy: 0.6285 - val_loss: 2.3915 - val_accuracy: 0.3420\n",
      "Epoch 6/50\n",
      "125/125 [==============================] - 6s 46ms/step - loss: 0.8412 - accuracy: 0.7153 - val_loss: 2.8896 - val_accuracy: 0.3310\n",
      "Epoch 7/50\n",
      "125/125 [==============================] - 6s 44ms/step - loss: 0.6539 - accuracy: 0.7857 - val_loss: 3.2504 - val_accuracy: 0.3290\n",
      "Epoch 8/50\n",
      "125/125 [==============================] - 6s 45ms/step - loss: 0.5437 - accuracy: 0.8235 - val_loss: 3.6112 - val_accuracy: 0.3490\n",
      "Epoch 9/50\n",
      "125/125 [==============================] - 6s 45ms/step - loss: 0.4070 - accuracy: 0.8750 - val_loss: 3.9999 - val_accuracy: 0.3190\n",
      "Epoch 10/50\n",
      "125/125 [==============================] - 6s 45ms/step - loss: 0.2746 - accuracy: 0.9103 - val_loss: 4.5944 - val_accuracy: 0.3260\n",
      "Epoch 11/50\n",
      "125/125 [==============================] - 6s 44ms/step - loss: 0.2663 - accuracy: 0.9178 - val_loss: 4.6736 - val_accuracy: 0.3230\n",
      "Epoch 12/50\n",
      "125/125 [==============================] - 6s 44ms/step - loss: 0.1868 - accuracy: 0.9498 - val_loss: 4.9576 - val_accuracy: 0.3350\n",
      "Epoch 13/50\n",
      "125/125 [==============================] - 6s 44ms/step - loss: 0.1398 - accuracy: 0.9585 - val_loss: 4.9810 - val_accuracy: 0.3150\n",
      "Epoch 14/50\n",
      "125/125 [==============================] - 6s 45ms/step - loss: 0.0892 - accuracy: 0.9740 - val_loss: 5.3510 - val_accuracy: 0.3410\n",
      "Epoch 15/50\n",
      "125/125 [==============================] - 6s 45ms/step - loss: 0.0976 - accuracy: 0.9760 - val_loss: 5.8884 - val_accuracy: 0.3220\n",
      "Epoch 16/50\n",
      "125/125 [==============================] - 6s 44ms/step - loss: 0.1881 - accuracy: 0.9490 - val_loss: 5.2541 - val_accuracy: 0.3250\n",
      "Epoch 17/50\n",
      "125/125 [==============================] - 6s 44ms/step - loss: 0.1638 - accuracy: 0.9523 - val_loss: 6.3813 - val_accuracy: 0.3040\n",
      "Epoch 18/50\n",
      "125/125 [==============================] - 6s 44ms/step - loss: 0.2085 - accuracy: 0.9442 - val_loss: 5.7707 - val_accuracy: 0.3030\n",
      "Epoch 19/50\n",
      "125/125 [==============================] - 6s 44ms/step - loss: 0.1849 - accuracy: 0.9538 - val_loss: 5.8184 - val_accuracy: 0.3310\n",
      "Epoch 20/50\n",
      "125/125 [==============================] - 6s 44ms/step - loss: 0.1350 - accuracy: 0.9655 - val_loss: 5.9272 - val_accuracy: 0.3160\n",
      "Epoch 21/50\n",
      "125/125 [==============================] - 6s 45ms/step - loss: 0.0869 - accuracy: 0.9787 - val_loss: 5.9106 - val_accuracy: 0.3320\n",
      "Epoch 22/50\n",
      "125/125 [==============================] - 6s 46ms/step - loss: 0.3320 - accuracy: 0.9298 - val_loss: 6.5469 - val_accuracy: 0.2920\n",
      "Epoch 23/50\n",
      "125/125 [==============================] - 6s 46ms/step - loss: 0.2505 - accuracy: 0.9337 - val_loss: 5.2029 - val_accuracy: 0.2900\n",
      "Epoch 24/50\n",
      "125/125 [==============================] - 6s 45ms/step - loss: 0.1147 - accuracy: 0.9722 - val_loss: 5.7714 - val_accuracy: 0.3390\n",
      "Epoch 25/50\n",
      "125/125 [==============================] - 6s 46ms/step - loss: 0.0518 - accuracy: 0.9865 - val_loss: 5.8475 - val_accuracy: 0.3130\n",
      "Epoch 26/50\n",
      "125/125 [==============================] - 6s 46ms/step - loss: 0.0423 - accuracy: 0.9893 - val_loss: 6.0275 - val_accuracy: 0.3120\n",
      "Epoch 27/50\n",
      "125/125 [==============================] - 6s 46ms/step - loss: 0.0146 - accuracy: 0.9955 - val_loss: 6.9485 - val_accuracy: 0.2920\n",
      "Epoch 28/50\n",
      "125/125 [==============================] - 6s 45ms/step - loss: 0.0064 - accuracy: 0.9980 - val_loss: 6.6608 - val_accuracy: 0.3270\n",
      "Epoch 29/50\n",
      "125/125 [==============================] - 6s 46ms/step - loss: 0.0011 - accuracy: 1.0000 - val_loss: 6.7188 - val_accuracy: 0.3250\n",
      "Epoch 30/50\n",
      "125/125 [==============================] - 6s 45ms/step - loss: 2.1153e-04 - accuracy: 1.0000 - val_loss: 6.7631 - val_accuracy: 0.3310\n",
      "Epoch 31/50\n",
      "125/125 [==============================] - 6s 46ms/step - loss: 1.3645e-04 - accuracy: 1.0000 - val_loss: 6.8336 - val_accuracy: 0.3300\n",
      "Epoch 32/50\n",
      "125/125 [==============================] - 6s 45ms/step - loss: 1.0929e-04 - accuracy: 1.0000 - val_loss: 6.8858 - val_accuracy: 0.3300\n",
      "Epoch 33/50\n",
      "125/125 [==============================] - 6s 45ms/step - loss: 9.1942e-05 - accuracy: 1.0000 - val_loss: 6.9342 - val_accuracy: 0.3290\n",
      "Epoch 34/50\n",
      "125/125 [==============================] - 6s 47ms/step - loss: 7.9443e-05 - accuracy: 1.0000 - val_loss: 6.9803 - val_accuracy: 0.3290\n",
      "Epoch 35/50\n",
      "125/125 [==============================] - 6s 46ms/step - loss: 6.9696e-05 - accuracy: 1.0000 - val_loss: 7.0243 - val_accuracy: 0.3280\n",
      "Epoch 36/50\n",
      "125/125 [==============================] - 6s 45ms/step - loss: 6.1466e-05 - accuracy: 1.0000 - val_loss: 7.0673 - val_accuracy: 0.3250\n",
      "Epoch 37/50\n",
      "125/125 [==============================] - 6s 44ms/step - loss: 5.5644e-05 - accuracy: 1.0000 - val_loss: 7.1024 - val_accuracy: 0.3250\n",
      "Epoch 38/50\n",
      "125/125 [==============================] - 6s 45ms/step - loss: 4.9351e-05 - accuracy: 1.0000 - val_loss: 7.1475 - val_accuracy: 0.3250\n",
      "Epoch 39/50\n",
      "125/125 [==============================] - 6s 45ms/step - loss: 4.4392e-05 - accuracy: 1.0000 - val_loss: 7.1848 - val_accuracy: 0.3240\n",
      "Epoch 40/50\n",
      "125/125 [==============================] - 6s 46ms/step - loss: 4.0276e-05 - accuracy: 1.0000 - val_loss: 7.2264 - val_accuracy: 0.3240\n",
      "Epoch 41/50\n",
      "125/125 [==============================] - 6s 45ms/step - loss: 3.6484e-05 - accuracy: 1.0000 - val_loss: 7.2648 - val_accuracy: 0.3230\n",
      "Epoch 42/50\n",
      "125/125 [==============================] - 6s 46ms/step - loss: 3.3230e-05 - accuracy: 1.0000 - val_loss: 7.3091 - val_accuracy: 0.3250\n",
      "Epoch 43/50\n",
      "125/125 [==============================] - 6s 46ms/step - loss: 3.0422e-05 - accuracy: 1.0000 - val_loss: 7.3409 - val_accuracy: 0.3250\n",
      "Epoch 44/50\n",
      "125/125 [==============================] - 6s 46ms/step - loss: 2.7594e-05 - accuracy: 1.0000 - val_loss: 7.3834 - val_accuracy: 0.3230\n",
      "Epoch 45/50\n",
      "125/125 [==============================] - 6s 45ms/step - loss: 2.4668e-05 - accuracy: 1.0000 - val_loss: 7.4303 - val_accuracy: 0.3220\n",
      "Epoch 46/50\n",
      "125/125 [==============================] - 6s 45ms/step - loss: 2.2430e-05 - accuracy: 1.0000 - val_loss: 7.4920 - val_accuracy: 0.3230\n",
      "Epoch 47/50\n",
      "125/125 [==============================] - 6s 45ms/step - loss: 2.0140e-05 - accuracy: 1.0000 - val_loss: 7.5374 - val_accuracy: 0.3230\n",
      "Epoch 48/50\n",
      "125/125 [==============================] - 6s 45ms/step - loss: 1.8195e-05 - accuracy: 1.0000 - val_loss: 7.6118 - val_accuracy: 0.3200\n",
      "Epoch 49/50\n",
      "125/125 [==============================] - 6s 45ms/step - loss: 1.6483e-05 - accuracy: 1.0000 - val_loss: 7.6762 - val_accuracy: 0.3200\n",
      "Epoch 50/50\n",
      "125/125 [==============================] - 6s 45ms/step - loss: 1.5032e-05 - accuracy: 1.0000 - val_loss: 7.7616 - val_accuracy: 0.3190\n"
     ]
    }
   ],
   "source": [
    "history = model.fit(train_dataset, validation_data=test_dataset, epochs=50)"
   ]
  }
 ],
 "metadata": {
  "kernelspec": {
   "display_name": "dnn",
   "language": "python",
   "name": "python3"
  },
  "language_info": {
   "codemirror_mode": {
    "name": "ipython",
    "version": 3
   },
   "file_extension": ".py",
   "mimetype": "text/x-python",
   "name": "python",
   "nbconvert_exporter": "python",
   "pygments_lexer": "ipython3",
   "version": "3.11.5"
  },
  "orig_nbformat": 4
 },
 "nbformat": 4,
 "nbformat_minor": 2
}
