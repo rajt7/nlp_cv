{
 "cells": [
  {
   "cell_type": "code",
   "execution_count": 1,
   "metadata": {},
   "outputs": [],
   "source": [
    "from tkinter import *"
   ]
  },
  {
   "cell_type": "markdown",
   "metadata": {},
   "source": [
    "#### Title and Size"
   ]
  },
  {
   "cell_type": "code",
   "execution_count": 5,
   "metadata": {},
   "outputs": [],
   "source": [
    "top = Tk()\n",
    "\n",
    "top.title(\"My First application\")\n",
    "top.geometry('400x300')\n",
    "\n",
    "top.mainloop()"
   ]
  },
  {
   "cell_type": "markdown",
   "metadata": {},
   "source": [
    "#### Add the widgets"
   ]
  },
  {
   "cell_type": "code",
   "execution_count": 8,
   "metadata": {},
   "outputs": [],
   "source": [
    "top = Tk()\n",
    "\n",
    "top.title(\"My First application\")\n",
    "top.geometry('400x300')\n",
    "\n",
    "label = Label(top, text=\"Hello World\")\n",
    "label.pack()\n",
    "\n",
    "t = Entry(top)\n",
    "t.pack()\n",
    "\n",
    "b = Button(top, text=\"Submit\")\n",
    "b.pack()\n",
    "\n",
    "top.mainloop()"
   ]
  },
  {
   "cell_type": "markdown",
   "metadata": {},
   "source": [
    "#### Event Handling"
   ]
  },
  {
   "cell_type": "code",
   "execution_count": 14,
   "metadata": {},
   "outputs": [],
   "source": [
    "top = Tk()\n",
    "\n",
    "top.title(\"My First application\")\n",
    "top.geometry('400x300')\n",
    "\n",
    "num = IntVar()\n",
    "\n",
    "def find():\n",
    "    n = num.get()\n",
    "    result = Label(text=f'Square is: {n*n}')\n",
    "    result.pack()\n",
    "\n",
    "label = Label(top, text=\"Enter a number:\")\n",
    "label.pack()\n",
    "\n",
    "t = Entry(top, textvariable=num)\n",
    "t.pack()\n",
    "\n",
    "b = Button(top, text=\"Find square\", command=find)\n",
    "b.pack()\n",
    "\n",
    "top.mainloop()"
   ]
  },
  {
   "cell_type": "code",
   "execution_count": 18,
   "metadata": {},
   "outputs": [],
   "source": [
    "top = Tk()\n",
    "\n",
    "top.title(\"My First application\")\n",
    "top.geometry('400x300')\n",
    "\n",
    "num = IntVar()\n",
    "\n",
    "def find(event):\n",
    "    n = num.get()\n",
    "    result.config(text=f'Square is: {n*n}')\n",
    "\n",
    "label = Label(top, text=\"Enter a number:\")\n",
    "label.pack()\n",
    "\n",
    "t = Entry(top, textvariable=num)\n",
    "t.bind('<Return>', find)\n",
    "t.pack()\n",
    "\n",
    "b = Button(top, text=\"Find square\", command=find)\n",
    "b.pack()\n",
    "\n",
    "result = Label(text='Square is: ')\n",
    "result.pack()\n",
    "\n",
    "top.mainloop()"
   ]
  },
  {
   "cell_type": "code",
   "execution_count": 20,
   "metadata": {},
   "outputs": [],
   "source": [
    "top = Tk()\n",
    "\n",
    "top.title(\"My First application\")\n",
    "top.geometry('400x300')\n",
    "\n",
    "num = IntVar()\n",
    "\n",
    "def find(event):\n",
    "    n = num.get()\n",
    "    result.config(text=f'Square is: {n*n}')\n",
    "\n",
    "label = Label(top, text=\"Enter a number:\")\n",
    "t = Entry(top, textvariable=num)\n",
    "t.bind('<Return>', find)\n",
    "b = Button(top, text=\"Find square\", command=find)\n",
    "result = Label(text='Square is: ')\n",
    "\n",
    "label.place(x=50, y=30)\n",
    "t.place(x=50, y=60)\n",
    "b.place(x=50, y=90)\n",
    "result.place(x=50, y=120)\n",
    "top.mainloop()"
   ]
  },
  {
   "cell_type": "code",
   "execution_count": 36,
   "metadata": {},
   "outputs": [
    {
     "name": "stderr",
     "output_type": "stream",
     "text": [
      "Exception in Tkinter callback\n",
      "Traceback (most recent call last):\n",
      "  File \"/home/dai/anaconda3/lib/python3.11/tkinter/__init__.py\", line 1948, in __call__\n",
      "    return self.func(*args)\n",
      "           ^^^^^^^^^^^^^^^^\n",
      "TypeError: add() missing 1 required positional argument: 'event'\n"
     ]
    }
   ],
   "source": [
    "top = Tk()\n",
    "\n",
    "top.title(\"My First application\")\n",
    "top.geometry('600x600')\n",
    "\n",
    "num1 = IntVar()\n",
    "num2 = IntVar()\n",
    "\n",
    "def add(event):\n",
    "    n1 = num1.get()\n",
    "    n2 = num2.get()\n",
    "    result.config(text=f'Addition is: {n1+n2}')\n",
    "\n",
    "def sub(event):\n",
    "    n1 = num1.get()\n",
    "    n2 = num2.get()\n",
    "    result.config(text=f'Subtraction is: {n1-n2}')\n",
    "\n",
    "def multiply(event):\n",
    "    n1 = num1.get()\n",
    "    n2 = num2.get()\n",
    "    result.config(text=f'Multiplication is: {n1*n2}')\n",
    "\n",
    "def division(event):\n",
    "    n1 = num1.get()\n",
    "    n2 = num2.get()\n",
    "    result.config(text=f'Division is: {n1/n2}')\n",
    "\n",
    "\n",
    "label1 = Label(top, text=\"Number 1:\")\n",
    "label1.place(x=30, y=30)\n",
    "\n",
    "label2 = Label(top, text=\"Number 2:\")\n",
    "label2.place(x=300, y=30)\n",
    "\n",
    "entry1 = Entry(top, textvariable=num1)\n",
    "# entry1.bind('<Return>', find)\n",
    "entry1.place(x=100, y=30)\n",
    "\n",
    "entry2 = Entry(top, textvariable=num2)\n",
    "# entry2.bind('<Return>', find)\n",
    "entry2.place(x=370, y=30)\n",
    "\n",
    "add_b = Button(top, text=\"+\", command=add)\n",
    "add_b.place(x=100, y=50)\n",
    "\n",
    "sub_b = Button(top, text=\"-\", command=sub)\n",
    "sub_b.place(x=150, y=50)\n",
    "\n",
    "mul_b = Button(top, text=\"*\", command=multiply)\n",
    "mul_b.place(x=200, y=50)\n",
    "\n",
    "div_b = Button(top, text=\"/\", command=division)\n",
    "div_b.place(x=250, y=50)\n",
    "\n",
    "result = Label(text='Answer is: ')\n",
    "result.place(x=200, y=80)\n",
    "\n",
    "top.mainloop()"
   ]
  }
 ],
 "metadata": {
  "kernelspec": {
   "display_name": "base",
   "language": "python",
   "name": "python3"
  },
  "language_info": {
   "codemirror_mode": {
    "name": "ipython",
    "version": 3
   },
   "file_extension": ".py",
   "mimetype": "text/x-python",
   "name": "python",
   "nbconvert_exporter": "python",
   "pygments_lexer": "ipython3",
   "version": "3.11.4"
  },
  "orig_nbformat": 4
 },
 "nbformat": 4,
 "nbformat_minor": 2
}
