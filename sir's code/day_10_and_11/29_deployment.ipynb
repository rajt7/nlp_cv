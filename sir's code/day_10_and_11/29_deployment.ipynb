{
 "cells": [
  {
   "cell_type": "code",
   "execution_count": 5,
   "metadata": {},
   "outputs": [],
   "source": [
    "import joblib\n",
    "from nltk.stem import WordNetLemmatizer\n",
    "from nltk import pos_tag\n",
    "from nltk.tokenize import word_tokenize\n",
    "from nltk.corpus import stopwords\n",
    "from nltk.stem import LancasterStemmer\n",
    "from tkinter import *"
   ]
  },
  {
   "cell_type": "code",
   "execution_count": 4,
   "metadata": {},
   "outputs": [],
   "source": [
    "import string\n",
    "wnl = WordNetLemmatizer()\n",
    "punctuations = string.punctuation\n",
    "stopword = stopwords.words('english')\n",
    "ls = LancasterStemmer()\n",
    "\n",
    "def clean_text(text):\n",
    "    tokens1 = word_tokenize(text)\n",
    "    tokens2 = [x.lower() for x in tokens1 if x not in punctuations]\n",
    "    tokens3 = [ls.stem(x) for x in tokens2 if x not in stopword]\n",
    "\n",
    "    tokens4 = []\n",
    "    tags = pos_tag(tokens3)\n",
    "    for word in tags:\n",
    "        if word[1].startswith('N'):\n",
    "            tokens4.append(wnl.lemmatize(word[0], pos='n'))\n",
    "        if word[1].startswith('V'):\n",
    "            tokens4.append(wnl.lemmatize(word[0], pos='v'))\n",
    "        if word[1].startswith('R'):\n",
    "            tokens4.append(wnl.lemmatize(word[0], pos='r'))    \n",
    "        if word[1].startswith('J'):\n",
    "            tokens4.append(wnl.lemmatize(word[0], pos='a'))\n",
    "\n",
    "    return tokens4"
   ]
  },
  {
   "cell_type": "markdown",
   "metadata": {},
   "source": [
    "## Deploy the Model"
   ]
  },
  {
   "cell_type": "code",
   "execution_count": 6,
   "metadata": {},
   "outputs": [],
   "source": [
    "model = joblib.load('./models/model.bin')\n",
    "tfidf = joblib.load('./models/vectorizer.bin')"
   ]
  },
  {
   "cell_type": "code",
   "execution_count": 13,
   "metadata": {},
   "outputs": [],
   "source": [
    "top = Tk()\n",
    "\n",
    "message = StringVar()\n",
    "\n",
    "def display(event):\n",
    "    global message\n",
    "    m1 = message.get()\n",
    "    m1 = tfidf.transform([m1])\n",
    "    result = model.predict(m1b)[0]\n",
    "    if result == 'ham':\n",
    "        Label(text='NOT Spam message').place(x=100, y=200)\n",
    "    else:\n",
    "        Label(text='SPAM message!').place(x=100, y=200)\n",
    "\n",
    "\n",
    "\n",
    "Label(top, text='Enter Message:').place(x=50, y=50)\n",
    "e = Entry(top, width=100, textvariable=message)\n",
    "e.place(x=200, y=50)\n",
    "e.bind('<Return>', display)\n",
    "\n",
    "top.title('SPAM Message Detector!')\n",
    "top.geometry('1200x300')\n",
    "top.mainloop()"
   ]
  }
 ],
 "metadata": {
  "kernelspec": {
   "display_name": "base",
   "language": "python",
   "name": "python3"
  },
  "language_info": {
   "codemirror_mode": {
    "name": "ipython",
    "version": 3
   },
   "file_extension": ".py",
   "mimetype": "text/x-python",
   "name": "python",
   "nbconvert_exporter": "python",
   "pygments_lexer": "ipython3",
   "version": "3.11.4"
  },
  "orig_nbformat": 4
 },
 "nbformat": 4,
 "nbformat_minor": 2
}
