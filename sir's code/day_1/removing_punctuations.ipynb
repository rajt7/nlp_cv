{
 "cells": [
  {
   "cell_type": "code",
   "execution_count": 2,
   "metadata": {},
   "outputs": [],
   "source": [
    "import string\n",
    "from nltk import word_tokenize"
   ]
  },
  {
   "cell_type": "code",
   "execution_count": 3,
   "metadata": {},
   "outputs": [
    {
     "data": {
      "text/plain": [
       "'!\"#$%&\\'()*+,-./:;<=>?@[\\\\]^_`{|}~'"
      ]
     },
     "execution_count": 3,
     "metadata": {},
     "output_type": "execute_result"
    }
   ],
   "source": [
    "### List of all punctuations in python\n",
    "string.punctuation"
   ]
  },
  {
   "cell_type": "code",
   "execution_count": 4,
   "metadata": {},
   "outputs": [
    {
     "name": "stdout",
     "output_type": "stream",
     "text": [
      "['Hello', 'friends', '!', 'How', 'are', 'you', '?', 'Welcome', 'to', 'Python', 'Programming', '.']\n",
      "25.0\n"
     ]
    }
   ],
   "source": [
    "### Percentage of punctuation symbols\n",
    "sents = '''Hello friends!\n",
    "How are you? Welcome to Python Programming.'''\n",
    "\n",
    "words = word_tokenize(sents)\n",
    "print(words)\n",
    "\n",
    "count = 0\n",
    "for word in words:\n",
    "    if word in string.punctuation:\n",
    "        count += 1\n",
    "\n",
    "print((count/len(words))*100)"
   ]
  },
  {
   "cell_type": "markdown",
   "metadata": {},
   "source": [
    "## Remvoing Punctuations"
   ]
  },
  {
   "cell_type": "code",
   "execution_count": 7,
   "metadata": {},
   "outputs": [
    {
     "data": {
      "text/plain": [
       "'Hello friends  \\nHow are you Welcome to Python Programming'"
      ]
     },
     "execution_count": 7,
     "metadata": {},
     "output_type": "execute_result"
    }
   ],
   "source": [
    "punctuations = string.punctuation\n",
    "\n",
    "sents = '''Hello friends! ,, .!\n",
    "How are you? Welcome to #Python #Programming.'''\n",
    "\n",
    "def remove_punc(text):\n",
    "    for punct in punctuations:\n",
    "        text = text.replace(punct, '')\n",
    "    return text\n",
    "\n",
    "remove_punc(sents)"
   ]
  },
  {
   "cell_type": "code",
   "execution_count": 9,
   "metadata": {},
   "outputs": [
    {
     "data": {
      "text/plain": [
       "'Hello friends  \\nHow are you Welcome to Python Programming'"
      ]
     },
     "execution_count": 9,
     "metadata": {},
     "output_type": "execute_result"
    }
   ],
   "source": [
    "# More faster way than the above mentioned.\n",
    "def remove_punc1(text):\n",
    "    return text.translate(str.maketrans('', '', punctuations))\n",
    "\n",
    "remove_punc1(sents)"
   ]
  }
 ],
 "metadata": {
  "kernelspec": {
   "display_name": "base",
   "language": "python",
   "name": "python3"
  },
  "language_info": {
   "codemirror_mode": {
    "name": "ipython",
    "version": 3
   },
   "file_extension": ".py",
   "mimetype": "text/x-python",
   "name": "python",
   "nbconvert_exporter": "python",
   "pygments_lexer": "ipython3",
   "version": "3.11.5"
  }
 },
 "nbformat": 4,
 "nbformat_minor": 2
}
