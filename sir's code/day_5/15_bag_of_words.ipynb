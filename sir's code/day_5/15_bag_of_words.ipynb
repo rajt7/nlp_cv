{
 "cells": [
  {
   "cell_type": "markdown",
   "metadata": {},
   "source": [
    "## Bag of Words"
   ]
  },
  {
   "cell_type": "code",
   "execution_count": 2,
   "metadata": {},
   "outputs": [
    {
     "data": {
      "text/plain": [
       "{'the': 2,\n",
       " 'quick': 1,\n",
       " 'brown': 1,\n",
       " 'fox': 1,\n",
       " 'jumps': 1,\n",
       " 'over': 1,\n",
       " 'lazy': 1,\n",
       " 'dog': 1,\n",
       " '.': 1}"
      ]
     },
     "execution_count": 2,
     "metadata": {},
     "output_type": "execute_result"
    }
   ],
   "source": [
    "from nltk.tokenize import word_tokenize\n",
    "\n",
    "sentence = 'The quick brown fox jumps over the lazy dog.'\n",
    "sentence = sentence.lower()\n",
    "\n",
    "words = word_tokenize(sentence)\n",
    "\n",
    "word_dict = dict.fromkeys(words, 0)\n",
    "for word in word_dict.keys():\n",
    "    word_dict[word] = words.count(word)\n",
    "\n",
    "word_dict"
   ]
  },
  {
   "cell_type": "code",
   "execution_count": 1,
   "metadata": {},
   "outputs": [
    {
     "data": {
      "text/html": [
       "<div>\n",
       "<style scoped>\n",
       "    .dataframe tbody tr th:only-of-type {\n",
       "        vertical-align: middle;\n",
       "    }\n",
       "\n",
       "    .dataframe tbody tr th {\n",
       "        vertical-align: top;\n",
       "    }\n",
       "\n",
       "    .dataframe thead th {\n",
       "        text-align: right;\n",
       "    }\n",
       "</style>\n",
       "<table border=\"1\" class=\"dataframe\">\n",
       "  <thead>\n",
       "    <tr style=\"text-align: right;\">\n",
       "      <th></th>\n",
       "      <th>0</th>\n",
       "      <th>1</th>\n",
       "    </tr>\n",
       "  </thead>\n",
       "  <tbody>\n",
       "    <tr>\n",
       "      <th>cat</th>\n",
       "      <td>0</td>\n",
       "      <td>1</td>\n",
       "    </tr>\n",
       "    <tr>\n",
       "      <th>quick</th>\n",
       "      <td>1</td>\n",
       "      <td>0</td>\n",
       "    </tr>\n",
       "    <tr>\n",
       "      <th>jumps</th>\n",
       "      <td>1</td>\n",
       "      <td>0</td>\n",
       "    </tr>\n",
       "    <tr>\n",
       "      <th>.</th>\n",
       "      <td>1</td>\n",
       "      <td>1</td>\n",
       "    </tr>\n",
       "    <tr>\n",
       "      <th>fox</th>\n",
       "      <td>1</td>\n",
       "      <td>0</td>\n",
       "    </tr>\n",
       "    <tr>\n",
       "      <th>loudly</th>\n",
       "      <td>0</td>\n",
       "      <td>1</td>\n",
       "    </tr>\n",
       "    <tr>\n",
       "      <th>lazy</th>\n",
       "      <td>1</td>\n",
       "      <td>0</td>\n",
       "    </tr>\n",
       "    <tr>\n",
       "      <th>brown</th>\n",
       "      <td>1</td>\n",
       "      <td>0</td>\n",
       "    </tr>\n",
       "    <tr>\n",
       "      <th>dog</th>\n",
       "      <td>1</td>\n",
       "      <td>0</td>\n",
       "    </tr>\n",
       "    <tr>\n",
       "      <th>and</th>\n",
       "      <td>0</td>\n",
       "      <td>1</td>\n",
       "    </tr>\n",
       "    <tr>\n",
       "      <th>chases</th>\n",
       "      <td>0</td>\n",
       "      <td>1</td>\n",
       "    </tr>\n",
       "    <tr>\n",
       "      <th>mouse</th>\n",
       "      <td>0</td>\n",
       "      <td>1</td>\n",
       "    </tr>\n",
       "    <tr>\n",
       "      <th>the</th>\n",
       "      <td>2</td>\n",
       "      <td>2</td>\n",
       "    </tr>\n",
       "    <tr>\n",
       "      <th>it</th>\n",
       "      <td>0</td>\n",
       "      <td>1</td>\n",
       "    </tr>\n",
       "    <tr>\n",
       "      <th>squeaks</th>\n",
       "      <td>0</td>\n",
       "      <td>1</td>\n",
       "    </tr>\n",
       "    <tr>\n",
       "      <th>over</th>\n",
       "      <td>1</td>\n",
       "      <td>0</td>\n",
       "    </tr>\n",
       "  </tbody>\n",
       "</table>\n",
       "</div>"
      ],
      "text/plain": [
       "         0  1\n",
       "cat      0  1\n",
       "quick    1  0\n",
       "jumps    1  0\n",
       ".        1  1\n",
       "fox      1  0\n",
       "loudly   0  1\n",
       "lazy     1  0\n",
       "brown    1  0\n",
       "dog      1  0\n",
       "and      0  1\n",
       "chases   0  1\n",
       "mouse    0  1\n",
       "the      2  2\n",
       "it       0  1\n",
       "squeaks  0  1\n",
       "over     1  0"
      ]
     },
     "execution_count": 1,
     "metadata": {},
     "output_type": "execute_result"
    }
   ],
   "source": [
    "import pandas as pd\n",
    "from nltk.tokenize import word_tokenize\n",
    "\n",
    "sentences = ['The quick brown fox jumps over the lazy dog.', 'The cat chases the mouse and it squeaks loudly.']\n",
    "sentences = [sentence.lower() for sentence in sentences]\n",
    "\n",
    "\n",
    "all_words = set()\n",
    "for sentence in sentences:\n",
    "    words = word_tokenize(sentence)\n",
    "    for word in words:\n",
    "        all_words.add(word)\n",
    "\n",
    "df = pd.DataFrame({}, index=range(len(sentences)), columns=list(all_words))\n",
    "\n",
    "words_dict = dict.fromkeys(all_words, 0)\n",
    "\n",
    "for i in range(len(sentences)):\n",
    "    sentence_words = word_tokenize(sentences[i])\n",
    "    for word in words_dict.keys():\n",
    "        words_dict[word] = sentence_words.count(word)\n",
    "    df.iloc[i, :] = words_dict\n",
    "\n",
    "df.T"
   ]
  },
  {
   "cell_type": "markdown",
   "metadata": {},
   "source": [
    "Count Vectorizer"
   ]
  },
  {
   "cell_type": "code",
   "execution_count": 3,
   "metadata": {},
   "outputs": [],
   "source": [
    "sentences = ['The quick brown fox jumps over the lazy dog.', 'The cat chases the mouse and it squeaks loudly.',\"dog quick\"]"
   ]
  },
  {
   "cell_type": "code",
   "execution_count": 4,
   "metadata": {},
   "outputs": [],
   "source": [
    "from sklearn.feature_extraction.text import CountVectorizer"
   ]
  },
  {
   "cell_type": "code",
   "execution_count": 5,
   "metadata": {},
   "outputs": [],
   "source": [
    "cv = CountVectorizer()"
   ]
  },
  {
   "cell_type": "code",
   "execution_count": 7,
   "metadata": {},
   "outputs": [],
   "source": [
    "vect_data = cv.fit_transform(sentences)"
   ]
  },
  {
   "cell_type": "code",
   "execution_count": 8,
   "metadata": {},
   "outputs": [
    {
     "data": {
      "text/plain": [
       "array([[0, 1, 0, 0, 1, 1, 0, 1, 1, 0, 0, 1, 1, 0, 2],\n",
       "       [1, 0, 1, 1, 0, 0, 1, 0, 0, 1, 1, 0, 0, 1, 2],\n",
       "       [0, 0, 0, 0, 1, 0, 0, 0, 0, 0, 0, 0, 1, 0, 0]])"
      ]
     },
     "execution_count": 8,
     "metadata": {},
     "output_type": "execute_result"
    }
   ],
   "source": [
    "vect_data.toarray()"
   ]
  },
  {
   "cell_type": "code",
   "execution_count": 9,
   "metadata": {},
   "outputs": [],
   "source": [
    "df = pd.DataFrame(vect_data.toarray(),columns = cv.get_feature_names_out())"
   ]
  },
  {
   "cell_type": "code",
   "execution_count": 10,
   "metadata": {},
   "outputs": [
    {
     "data": {
      "text/html": [
       "<div>\n",
       "<style scoped>\n",
       "    .dataframe tbody tr th:only-of-type {\n",
       "        vertical-align: middle;\n",
       "    }\n",
       "\n",
       "    .dataframe tbody tr th {\n",
       "        vertical-align: top;\n",
       "    }\n",
       "\n",
       "    .dataframe thead th {\n",
       "        text-align: right;\n",
       "    }\n",
       "</style>\n",
       "<table border=\"1\" class=\"dataframe\">\n",
       "  <thead>\n",
       "    <tr style=\"text-align: right;\">\n",
       "      <th></th>\n",
       "      <th>and</th>\n",
       "      <th>brown</th>\n",
       "      <th>cat</th>\n",
       "      <th>chases</th>\n",
       "      <th>dog</th>\n",
       "      <th>fox</th>\n",
       "      <th>it</th>\n",
       "      <th>jumps</th>\n",
       "      <th>lazy</th>\n",
       "      <th>loudly</th>\n",
       "      <th>mouse</th>\n",
       "      <th>over</th>\n",
       "      <th>quick</th>\n",
       "      <th>squeaks</th>\n",
       "      <th>the</th>\n",
       "    </tr>\n",
       "  </thead>\n",
       "  <tbody>\n",
       "    <tr>\n",
       "      <th>0</th>\n",
       "      <td>0</td>\n",
       "      <td>1</td>\n",
       "      <td>0</td>\n",
       "      <td>0</td>\n",
       "      <td>1</td>\n",
       "      <td>1</td>\n",
       "      <td>0</td>\n",
       "      <td>1</td>\n",
       "      <td>1</td>\n",
       "      <td>0</td>\n",
       "      <td>0</td>\n",
       "      <td>1</td>\n",
       "      <td>1</td>\n",
       "      <td>0</td>\n",
       "      <td>2</td>\n",
       "    </tr>\n",
       "    <tr>\n",
       "      <th>1</th>\n",
       "      <td>1</td>\n",
       "      <td>0</td>\n",
       "      <td>1</td>\n",
       "      <td>1</td>\n",
       "      <td>0</td>\n",
       "      <td>0</td>\n",
       "      <td>1</td>\n",
       "      <td>0</td>\n",
       "      <td>0</td>\n",
       "      <td>1</td>\n",
       "      <td>1</td>\n",
       "      <td>0</td>\n",
       "      <td>0</td>\n",
       "      <td>1</td>\n",
       "      <td>2</td>\n",
       "    </tr>\n",
       "    <tr>\n",
       "      <th>2</th>\n",
       "      <td>0</td>\n",
       "      <td>0</td>\n",
       "      <td>0</td>\n",
       "      <td>0</td>\n",
       "      <td>1</td>\n",
       "      <td>0</td>\n",
       "      <td>0</td>\n",
       "      <td>0</td>\n",
       "      <td>0</td>\n",
       "      <td>0</td>\n",
       "      <td>0</td>\n",
       "      <td>0</td>\n",
       "      <td>1</td>\n",
       "      <td>0</td>\n",
       "      <td>0</td>\n",
       "    </tr>\n",
       "  </tbody>\n",
       "</table>\n",
       "</div>"
      ],
      "text/plain": [
       "   and  brown  cat  chases  dog  fox  it  jumps  lazy  loudly  mouse  over  \\\n",
       "0    0      1    0       0    1    1   0      1     1       0      0     1   \n",
       "1    1      0    1       1    0    0   1      0     0       1      1     0   \n",
       "2    0      0    0       0    1    0   0      0     0       0      0     0   \n",
       "\n",
       "   quick  squeaks  the  \n",
       "0      1        0    2  \n",
       "1      0        1    2  \n",
       "2      1        0    0  "
      ]
     },
     "execution_count": 10,
     "metadata": {},
     "output_type": "execute_result"
    }
   ],
   "source": [
    "df"
   ]
  },
  {
   "cell_type": "code",
   "execution_count": 15,
   "metadata": {},
   "outputs": [],
   "source": [
    "sentence_3 = 'The lazy cat jumps over the quick dog.'"
   ]
  },
  {
   "cell_type": "code",
   "execution_count": 16,
   "metadata": {},
   "outputs": [
    {
     "data": {
      "text/plain": [
       "array([[0, 0, 1, 0, 1, 0, 0, 1, 1, 0, 0, 1, 1, 0, 2]])"
      ]
     },
     "execution_count": 16,
     "metadata": {},
     "output_type": "execute_result"
    }
   ],
   "source": [
    "fts3 = cv.transform([sentence_3]).toarray()\n",
    "fts3"
   ]
  },
  {
   "cell_type": "code",
   "execution_count": 12,
   "metadata": {},
   "outputs": [
    {
     "data": {
      "text/plain": [
       "['0Our country has fertile soil that makes it the largest wheat producer in the whole world India has given birth to famous personalities in the field of literature and science. For instance, Rabindranath Tagore, CV Raman, Dr Abdul Kalam, and others are Indians.\\n',\n",
       " '1It is a country that is home to thousands of villages. Similarly, the fields of India are fed by the mighty rivers. For instance, Ganga, Kaveri, Yamuna, Narmada, and more are rivers of India.\\n',\n",
       " '2Most importantly, the coasts of our country are guarded by the deep oceans and the mighty Himalayas are our natural frontiers. Being a secular state, India has a variety of religions that prosper happily together.\\n',\n",
       " '3The natural beauty of Kashmir, the mighty rivers and gorgeous valleys truly make it a paradise.\\n']"
      ]
     },
     "execution_count": 12,
     "metadata": {},
     "output_type": "execute_result"
    }
   ],
   "source": [
    "sentences = []\n",
    "with open(\"india.txt\",\"r\") as file:\n",
    "    sentences = file.readlines()\n",
    "\n",
    "sentences"
   ]
  },
  {
   "cell_type": "code",
   "execution_count": 13,
   "metadata": {},
   "outputs": [
    {
     "data": {
      "text/plain": [
       "4"
      ]
     },
     "execution_count": 13,
     "metadata": {},
     "output_type": "execute_result"
    }
   ],
   "source": [
    "len(sentences)"
   ]
  },
  {
   "cell_type": "code",
   "execution_count": 14,
   "metadata": {},
   "outputs": [
    {
     "data": {
      "text/plain": [
       "['Our country has fertile soil that makes it the largest wheat producer in the whole world India has given birth to famous personalities in the field of literature and science. For instance, Rabindranath Tagore, CV Raman, Dr Abdul Kalam, and others are Indians.\\n',\n",
       " 'It is a country that is home to thousands of villages. Similarly, the fields of India are fed by the mighty rivers. For instance, Ganga, Kaveri, Yamuna, Narmada, and more are rivers of India.\\n',\n",
       " 'Most importantly, the coasts of our country are guarded by the deep oceans and the mighty Himalayas are our natural frontiers. Being a secular state, India has a variety of religions that prosper happily together.\\n',\n",
       " 'The natural beauty of Kashmir, the mighty rivers and gorgeous valleys truly make it a paradise.\\n']"
      ]
     },
     "execution_count": 14,
     "metadata": {},
     "output_type": "execute_result"
    }
   ],
   "source": [
    "sentences = [sentence[1:] for sentence in sentences]\n",
    "sentences"
   ]
  },
  {
   "cell_type": "code",
   "execution_count": 15,
   "metadata": {},
   "outputs": [],
   "source": [
    "cv = CountVectorizer()"
   ]
  },
  {
   "cell_type": "code",
   "execution_count": 16,
   "metadata": {},
   "outputs": [],
   "source": [
    "vect_data = cv.fit_transform(sentences)"
   ]
  },
  {
   "cell_type": "code",
   "execution_count": 17,
   "metadata": {},
   "outputs": [
    {
     "data": {
      "text/plain": [
       "array([[1, 2, 1, 0, 0, 1, 0, 0, 1, 1, 0, 1, 1, 0, 1, 1, 0, 1, 0, 0, 1, 0,\n",
       "        0, 0, 2, 0, 0, 0, 2, 1, 1, 1, 0, 1, 1, 0, 0, 1, 1, 0, 1, 0, 0, 0,\n",
       "        0, 0, 0, 1, 1, 1, 0, 1, 1, 0, 1, 1, 0, 0, 1, 0, 0, 1, 0, 1, 1, 3,\n",
       "        0, 1, 0, 0, 0, 0, 0, 1, 1, 1, 0],\n",
       "       [0, 1, 2, 0, 0, 0, 1, 0, 1, 0, 0, 0, 0, 1, 0, 0, 1, 1, 0, 1, 0, 0,\n",
       "        0, 0, 0, 0, 1, 0, 0, 2, 0, 1, 2, 1, 0, 0, 1, 0, 0, 0, 0, 1, 1, 0,\n",
       "        1, 0, 0, 3, 0, 0, 0, 0, 0, 0, 0, 0, 0, 2, 0, 0, 1, 0, 0, 0, 1, 2,\n",
       "        1, 1, 0, 0, 0, 0, 1, 0, 0, 0, 1],\n",
       "       [0, 1, 2, 0, 1, 0, 1, 1, 1, 0, 1, 0, 0, 0, 0, 0, 0, 0, 1, 0, 0, 0,\n",
       "        1, 1, 1, 1, 0, 1, 0, 1, 0, 0, 0, 0, 0, 0, 0, 0, 0, 0, 0, 1, 0, 1,\n",
       "        0, 1, 1, 2, 0, 2, 0, 0, 0, 1, 0, 0, 1, 0, 0, 1, 0, 0, 1, 0, 1, 3,\n",
       "        0, 0, 1, 0, 0, 1, 0, 0, 0, 0, 0],\n",
       "       [0, 1, 0, 1, 0, 0, 0, 0, 0, 0, 0, 0, 0, 0, 0, 0, 0, 0, 0, 0, 0, 1,\n",
       "        0, 0, 0, 0, 0, 0, 0, 0, 0, 0, 0, 1, 0, 1, 0, 0, 0, 1, 0, 1, 0, 0,\n",
       "        0, 1, 0, 1, 0, 0, 1, 0, 0, 0, 0, 0, 0, 1, 0, 0, 0, 0, 0, 0, 0, 2,\n",
       "        0, 0, 0, 1, 1, 0, 0, 0, 0, 0, 0]])"
      ]
     },
     "execution_count": 17,
     "metadata": {},
     "output_type": "execute_result"
    }
   ],
   "source": [
    "vect_data.toarray()"
   ]
  },
  {
   "cell_type": "code",
   "execution_count": 18,
   "metadata": {},
   "outputs": [],
   "source": [
    "df = pd.DataFrame(vect_data.toarray(),columns = cv.get_feature_names_out())"
   ]
  },
  {
   "cell_type": "code",
   "execution_count": 19,
   "metadata": {},
   "outputs": [
    {
     "data": {
      "text/html": [
       "<div>\n",
       "<style scoped>\n",
       "    .dataframe tbody tr th:only-of-type {\n",
       "        vertical-align: middle;\n",
       "    }\n",
       "\n",
       "    .dataframe tbody tr th {\n",
       "        vertical-align: top;\n",
       "    }\n",
       "\n",
       "    .dataframe thead th {\n",
       "        text-align: right;\n",
       "    }\n",
       "</style>\n",
       "<table border=\"1\" class=\"dataframe\">\n",
       "  <thead>\n",
       "    <tr style=\"text-align: right;\">\n",
       "      <th></th>\n",
       "      <th>abdul</th>\n",
       "      <th>and</th>\n",
       "      <th>are</th>\n",
       "      <th>beauty</th>\n",
       "      <th>being</th>\n",
       "      <th>birth</th>\n",
       "      <th>by</th>\n",
       "      <th>coasts</th>\n",
       "      <th>country</th>\n",
       "      <th>cv</th>\n",
       "      <th>...</th>\n",
       "      <th>to</th>\n",
       "      <th>together</th>\n",
       "      <th>truly</th>\n",
       "      <th>valleys</th>\n",
       "      <th>variety</th>\n",
       "      <th>villages</th>\n",
       "      <th>wheat</th>\n",
       "      <th>whole</th>\n",
       "      <th>world</th>\n",
       "      <th>yamuna</th>\n",
       "    </tr>\n",
       "  </thead>\n",
       "  <tbody>\n",
       "    <tr>\n",
       "      <th>0</th>\n",
       "      <td>1</td>\n",
       "      <td>2</td>\n",
       "      <td>1</td>\n",
       "      <td>0</td>\n",
       "      <td>0</td>\n",
       "      <td>1</td>\n",
       "      <td>0</td>\n",
       "      <td>0</td>\n",
       "      <td>1</td>\n",
       "      <td>1</td>\n",
       "      <td>...</td>\n",
       "      <td>1</td>\n",
       "      <td>0</td>\n",
       "      <td>0</td>\n",
       "      <td>0</td>\n",
       "      <td>0</td>\n",
       "      <td>0</td>\n",
       "      <td>1</td>\n",
       "      <td>1</td>\n",
       "      <td>1</td>\n",
       "      <td>0</td>\n",
       "    </tr>\n",
       "    <tr>\n",
       "      <th>1</th>\n",
       "      <td>0</td>\n",
       "      <td>1</td>\n",
       "      <td>2</td>\n",
       "      <td>0</td>\n",
       "      <td>0</td>\n",
       "      <td>0</td>\n",
       "      <td>1</td>\n",
       "      <td>0</td>\n",
       "      <td>1</td>\n",
       "      <td>0</td>\n",
       "      <td>...</td>\n",
       "      <td>1</td>\n",
       "      <td>0</td>\n",
       "      <td>0</td>\n",
       "      <td>0</td>\n",
       "      <td>0</td>\n",
       "      <td>1</td>\n",
       "      <td>0</td>\n",
       "      <td>0</td>\n",
       "      <td>0</td>\n",
       "      <td>1</td>\n",
       "    </tr>\n",
       "    <tr>\n",
       "      <th>2</th>\n",
       "      <td>0</td>\n",
       "      <td>1</td>\n",
       "      <td>2</td>\n",
       "      <td>0</td>\n",
       "      <td>1</td>\n",
       "      <td>0</td>\n",
       "      <td>1</td>\n",
       "      <td>1</td>\n",
       "      <td>1</td>\n",
       "      <td>0</td>\n",
       "      <td>...</td>\n",
       "      <td>0</td>\n",
       "      <td>1</td>\n",
       "      <td>0</td>\n",
       "      <td>0</td>\n",
       "      <td>1</td>\n",
       "      <td>0</td>\n",
       "      <td>0</td>\n",
       "      <td>0</td>\n",
       "      <td>0</td>\n",
       "      <td>0</td>\n",
       "    </tr>\n",
       "    <tr>\n",
       "      <th>3</th>\n",
       "      <td>0</td>\n",
       "      <td>1</td>\n",
       "      <td>0</td>\n",
       "      <td>1</td>\n",
       "      <td>0</td>\n",
       "      <td>0</td>\n",
       "      <td>0</td>\n",
       "      <td>0</td>\n",
       "      <td>0</td>\n",
       "      <td>0</td>\n",
       "      <td>...</td>\n",
       "      <td>0</td>\n",
       "      <td>0</td>\n",
       "      <td>1</td>\n",
       "      <td>1</td>\n",
       "      <td>0</td>\n",
       "      <td>0</td>\n",
       "      <td>0</td>\n",
       "      <td>0</td>\n",
       "      <td>0</td>\n",
       "      <td>0</td>\n",
       "    </tr>\n",
       "  </tbody>\n",
       "</table>\n",
       "<p>4 rows × 77 columns</p>\n",
       "</div>"
      ],
      "text/plain": [
       "   abdul  and  are  beauty  being  birth  by  coasts  country  cv  ...  to  \\\n",
       "0      1    2    1       0      0      1   0       0        1   1  ...   1   \n",
       "1      0    1    2       0      0      0   1       0        1   0  ...   1   \n",
       "2      0    1    2       0      1      0   1       1        1   0  ...   0   \n",
       "3      0    1    0       1      0      0   0       0        0   0  ...   0   \n",
       "\n",
       "   together  truly  valleys  variety  villages  wheat  whole  world  yamuna  \n",
       "0         0      0        0        0         0      1      1      1       0  \n",
       "1         0      0        0        0         1      0      0      0       1  \n",
       "2         1      0        0        1         0      0      0      0       0  \n",
       "3         0      1        1        0         0      0      0      0       0  \n",
       "\n",
       "[4 rows x 77 columns]"
      ]
     },
     "execution_count": 19,
     "metadata": {},
     "output_type": "execute_result"
    }
   ],
   "source": [
    "df"
   ]
  },
  {
   "cell_type": "code",
   "execution_count": 26,
   "metadata": {},
   "outputs": [
    {
     "name": "stdout",
     "output_type": "stream",
     "text": [
      "['0Our country has fertile soil that makes it the largest wheat producer in the whole world India has given birth to famous personalities in the field of literature and science. For instance, Rabindranath Tagore, CV Raman, Dr Abdul Kalam, and others are Indians.\\n', '1It is a country that is home to thousands of villages. Similarly, the fields of India are fed by the mighty rivers. For instance, Ganga, Kaveri, Yamuna, Narmada, and more are rivers of India.\\n', '2Most importantly, the coasts of our country are guarded by the deep oceans and the mighty Himalayas are our natural frontiers. Being a secular state, India has a variety of religions that prosper happily together.\\n', '3The natural beauty of Kashmir, the mighty rivers and gorgeous valleys truly make it a paradise.\\n']\n"
     ]
    }
   ],
   "source": [
    "sentences = []\n",
    "with open(\"india.txt\",\"r+\") as file:\n",
    "    print(file.readlines())\n",
    "    "
   ]
  },
  {
   "cell_type": "code",
   "execution_count": 27,
   "metadata": {},
   "outputs": [],
   "source": [
    "sentences = ['Our country has fertile soil that makes it the largest wheat producer in the whole world India has given birth to famous personalities in the field of literature and science. For instance, Rabindranath Tagore, CV Raman, Dr Abdul Kalam, and others are Indians.\\n',\n",
    " 'It is a country that is home to thousands of villages. Similarly, the fields of India are fed by the mighty rivers. For instance, Ganga, Kaveri, Yamuna, Narmada, and more are rivers of India.\\n',\n",
    " 'Most importantly, the coasts of our country are guarded by the deep oceans and the mighty Himalayas are our natural frontiers. Being a secular state, India has a variety of religions that prosper happily together.\\n',\n",
    " 'The natural beauty of Kashmir, the mighty rivers and gorgeous valleys truly make it a paradise.\\n']"
   ]
  },
  {
   "cell_type": "code",
   "execution_count": 28,
   "metadata": {},
   "outputs": [
    {
     "data": {
      "text/plain": [
       "['Our country has fertile soil that makes it the largest wheat producer in the whole world India has given birth to famous personalities in the field of literature and science. For instance, Rabindranath Tagore, CV Raman, Dr Abdul Kalam, and others are Indians.\\n',\n",
       " 'It is a country that is home to thousands of villages. Similarly, the fields of India are fed by the mighty rivers. For instance, Ganga, Kaveri, Yamuna, Narmada, and more are rivers of India.\\n',\n",
       " 'Most importantly, the coasts of our country are guarded by the deep oceans and the mighty Himalayas are our natural frontiers. Being a secular state, India has a variety of religions that prosper happily together.\\n',\n",
       " 'The natural beauty of Kashmir, the mighty rivers and gorgeous valleys truly make it a paradise.\\n']"
      ]
     },
     "execution_count": 28,
     "metadata": {},
     "output_type": "execute_result"
    }
   ],
   "source": [
    "sentences"
   ]
  },
  {
   "cell_type": "code",
   "execution_count": 29,
   "metadata": {},
   "outputs": [],
   "source": [
    "with open(\"india.txt\",\"w\") as file:\n",
    "    for i,line in enumerate(sentences):\n",
    "        file.write(str(i)+line)"
   ]
  },
  {
   "cell_type": "code",
   "execution_count": 30,
   "metadata": {},
   "outputs": [],
   "source": [
    "from sklearn.feature_extraction.text import CountVectorizer\n",
    "\n",
    "cv = CountVectorizer(ngram_range=(1,2))"
   ]
  },
  {
   "cell_type": "code",
   "execution_count": 31,
   "metadata": {},
   "outputs": [
    {
     "data": {
      "text/plain": [
       "array([[1, 1, 2, 0, 0, 1, 1, 0, 1, 0, 0, 1, 0, 0, 0, 0, 0, 0, 1, 1, 0, 0,\n",
       "        0, 0, 1, 0, 1, 0, 1, 1, 0, 0, 1, 1, 1, 1, 0, 0, 1, 1, 1, 1, 0, 0,\n",
       "        1, 1, 0, 0, 0, 0, 1, 1, 0, 0, 0, 0, 0, 0, 2, 1, 1, 0, 0, 0, 0, 0,\n",
       "        0, 0, 2, 2, 1, 0, 1, 1, 1, 0, 1, 0, 0, 0, 1, 0, 0, 1, 1, 1, 0, 0,\n",
       "        0, 0, 1, 1, 1, 1, 0, 0, 1, 1, 0, 0, 0, 0, 0, 0, 0, 0, 0, 0, 0, 0,\n",
       "        0, 0, 1, 0, 0, 1, 0, 0, 0, 1, 1, 1, 1, 0, 0, 1, 1, 1, 1, 0, 0, 1,\n",
       "        1, 1, 1, 0, 0, 0, 0, 0, 0, 1, 1, 0, 0, 0, 0, 1, 1, 0, 0, 1, 1, 1,\n",
       "        0, 1, 0, 3, 0, 0, 1, 0, 1, 0, 0, 1, 0, 0, 1, 1, 0, 0, 0, 0, 0, 0,\n",
       "        0, 0, 0, 0, 1, 1, 1, 1, 1, 1, 0, 0],\n",
       "       [0, 0, 1, 0, 1, 0, 0, 0, 2, 1, 0, 0, 0, 1, 0, 0, 0, 0, 0, 0, 1, 1,\n",
       "        0, 0, 1, 0, 0, 1, 0, 0, 0, 0, 0, 0, 0, 0, 1, 1, 0, 0, 0, 0, 1, 1,\n",
       "        1, 1, 0, 0, 1, 1, 0, 0, 0, 0, 0, 0, 0, 0, 0, 0, 0, 0, 0, 0, 1, 1,\n",
       "        0, 0, 0, 0, 2, 1, 0, 0, 1, 1, 0, 2, 1, 1, 1, 1, 0, 0, 0, 0, 0, 0,\n",
       "        1, 1, 0, 0, 0, 0, 0, 0, 0, 0, 1, 0, 1, 1, 1, 0, 0, 1, 1, 0, 0, 0,\n",
       "        0, 0, 3, 2, 0, 0, 0, 0, 1, 0, 0, 0, 0, 0, 0, 0, 0, 0, 0, 0, 0, 0,\n",
       "        0, 0, 0, 0, 0, 2, 0, 1, 1, 0, 0, 0, 0, 1, 1, 0, 0, 0, 0, 0, 0, 1,\n",
       "        1, 0, 0, 2, 0, 0, 0, 1, 0, 1, 0, 0, 1, 1, 1, 0, 1, 0, 0, 0, 0, 0,\n",
       "        0, 0, 1, 1, 0, 0, 0, 0, 0, 0, 1, 1],\n",
       "       [0, 0, 1, 0, 0, 0, 0, 1, 2, 0, 1, 0, 1, 0, 0, 0, 1, 1, 0, 0, 1, 1,\n",
       "        1, 1, 1, 1, 0, 0, 0, 0, 1, 1, 0, 0, 0, 0, 0, 0, 0, 0, 0, 0, 0, 0,\n",
       "        0, 0, 1, 1, 0, 0, 0, 0, 0, 0, 1, 1, 1, 1, 1, 0, 0, 1, 1, 1, 0, 0,\n",
       "        1, 1, 0, 0, 1, 0, 1, 0, 0, 0, 0, 0, 0, 0, 0, 0, 0, 0, 0, 0, 0, 0,\n",
       "        0, 0, 0, 0, 0, 0, 0, 0, 0, 0, 1, 1, 0, 0, 0, 1, 1, 0, 0, 1, 0, 1,\n",
       "        1, 1, 2, 0, 0, 0, 1, 1, 0, 0, 0, 2, 1, 1, 0, 0, 0, 0, 0, 1, 1, 0,\n",
       "        0, 0, 0, 1, 1, 0, 0, 0, 0, 0, 0, 1, 1, 0, 0, 0, 0, 1, 1, 0, 0, 1,\n",
       "        0, 0, 1, 3, 1, 1, 0, 0, 0, 1, 0, 0, 0, 0, 0, 0, 0, 1, 0, 0, 0, 0,\n",
       "        1, 1, 0, 0, 0, 0, 0, 0, 0, 0, 0, 0],\n",
       "       [0, 0, 1, 1, 0, 0, 0, 0, 0, 0, 0, 0, 0, 0, 1, 1, 0, 0, 0, 0, 0, 0,\n",
       "        0, 0, 0, 0, 0, 0, 0, 0, 0, 0, 0, 0, 0, 0, 0, 0, 0, 0, 0, 0, 0, 0,\n",
       "        0, 0, 0, 0, 0, 0, 0, 0, 1, 1, 0, 0, 0, 0, 0, 0, 0, 0, 0, 0, 0, 0,\n",
       "        0, 0, 0, 0, 0, 0, 0, 0, 0, 0, 0, 0, 0, 0, 1, 0, 1, 0, 0, 0, 1, 1,\n",
       "        0, 0, 0, 0, 0, 0, 1, 1, 0, 0, 1, 0, 1, 0, 0, 0, 0, 0, 0, 1, 1, 0,\n",
       "        0, 0, 1, 0, 1, 0, 0, 0, 0, 0, 0, 0, 0, 0, 1, 0, 0, 0, 0, 0, 0, 0,\n",
       "        0, 0, 0, 0, 0, 1, 1, 0, 0, 0, 0, 0, 0, 0, 0, 0, 0, 0, 0, 0, 0, 0,\n",
       "        0, 0, 0, 2, 0, 0, 0, 0, 0, 1, 1, 0, 0, 0, 0, 0, 0, 0, 1, 1, 1, 1,\n",
       "        0, 0, 0, 0, 0, 0, 0, 0, 0, 0, 0, 0]])"
      ]
     },
     "execution_count": 31,
     "metadata": {},
     "output_type": "execute_result"
    }
   ],
   "source": [
    "vect_data = cv.fit_transform(sentences)\n",
    "vect_data.toarray()"
   ]
  },
  {
   "cell_type": "code",
   "execution_count": 32,
   "metadata": {},
   "outputs": [
    {
     "data": {
      "text/html": [
       "<div>\n",
       "<style scoped>\n",
       "    .dataframe tbody tr th:only-of-type {\n",
       "        vertical-align: middle;\n",
       "    }\n",
       "\n",
       "    .dataframe tbody tr th {\n",
       "        vertical-align: top;\n",
       "    }\n",
       "\n",
       "    .dataframe thead th {\n",
       "        text-align: right;\n",
       "    }\n",
       "</style>\n",
       "<table border=\"1\" class=\"dataframe\">\n",
       "  <thead>\n",
       "    <tr style=\"text-align: right;\">\n",
       "      <th></th>\n",
       "      <th>abdul</th>\n",
       "      <th>abdul kalam</th>\n",
       "      <th>and</th>\n",
       "      <th>and gorgeous</th>\n",
       "      <th>and more</th>\n",
       "      <th>and others</th>\n",
       "      <th>and science</th>\n",
       "      <th>and the</th>\n",
       "      <th>are</th>\n",
       "      <th>are fed</th>\n",
       "      <th>...</th>\n",
       "      <th>villages</th>\n",
       "      <th>villages similarly</th>\n",
       "      <th>wheat</th>\n",
       "      <th>wheat producer</th>\n",
       "      <th>whole</th>\n",
       "      <th>whole world</th>\n",
       "      <th>world</th>\n",
       "      <th>world india</th>\n",
       "      <th>yamuna</th>\n",
       "      <th>yamuna narmada</th>\n",
       "    </tr>\n",
       "  </thead>\n",
       "  <tbody>\n",
       "    <tr>\n",
       "      <th>0</th>\n",
       "      <td>1</td>\n",
       "      <td>1</td>\n",
       "      <td>2</td>\n",
       "      <td>0</td>\n",
       "      <td>0</td>\n",
       "      <td>1</td>\n",
       "      <td>1</td>\n",
       "      <td>0</td>\n",
       "      <td>1</td>\n",
       "      <td>0</td>\n",
       "      <td>...</td>\n",
       "      <td>0</td>\n",
       "      <td>0</td>\n",
       "      <td>1</td>\n",
       "      <td>1</td>\n",
       "      <td>1</td>\n",
       "      <td>1</td>\n",
       "      <td>1</td>\n",
       "      <td>1</td>\n",
       "      <td>0</td>\n",
       "      <td>0</td>\n",
       "    </tr>\n",
       "    <tr>\n",
       "      <th>1</th>\n",
       "      <td>0</td>\n",
       "      <td>0</td>\n",
       "      <td>1</td>\n",
       "      <td>0</td>\n",
       "      <td>1</td>\n",
       "      <td>0</td>\n",
       "      <td>0</td>\n",
       "      <td>0</td>\n",
       "      <td>2</td>\n",
       "      <td>1</td>\n",
       "      <td>...</td>\n",
       "      <td>1</td>\n",
       "      <td>1</td>\n",
       "      <td>0</td>\n",
       "      <td>0</td>\n",
       "      <td>0</td>\n",
       "      <td>0</td>\n",
       "      <td>0</td>\n",
       "      <td>0</td>\n",
       "      <td>1</td>\n",
       "      <td>1</td>\n",
       "    </tr>\n",
       "    <tr>\n",
       "      <th>2</th>\n",
       "      <td>0</td>\n",
       "      <td>0</td>\n",
       "      <td>1</td>\n",
       "      <td>0</td>\n",
       "      <td>0</td>\n",
       "      <td>0</td>\n",
       "      <td>0</td>\n",
       "      <td>1</td>\n",
       "      <td>2</td>\n",
       "      <td>0</td>\n",
       "      <td>...</td>\n",
       "      <td>0</td>\n",
       "      <td>0</td>\n",
       "      <td>0</td>\n",
       "      <td>0</td>\n",
       "      <td>0</td>\n",
       "      <td>0</td>\n",
       "      <td>0</td>\n",
       "      <td>0</td>\n",
       "      <td>0</td>\n",
       "      <td>0</td>\n",
       "    </tr>\n",
       "    <tr>\n",
       "      <th>3</th>\n",
       "      <td>0</td>\n",
       "      <td>0</td>\n",
       "      <td>1</td>\n",
       "      <td>1</td>\n",
       "      <td>0</td>\n",
       "      <td>0</td>\n",
       "      <td>0</td>\n",
       "      <td>0</td>\n",
       "      <td>0</td>\n",
       "      <td>0</td>\n",
       "      <td>...</td>\n",
       "      <td>0</td>\n",
       "      <td>0</td>\n",
       "      <td>0</td>\n",
       "      <td>0</td>\n",
       "      <td>0</td>\n",
       "      <td>0</td>\n",
       "      <td>0</td>\n",
       "      <td>0</td>\n",
       "      <td>0</td>\n",
       "      <td>0</td>\n",
       "    </tr>\n",
       "  </tbody>\n",
       "</table>\n",
       "<p>4 rows × 188 columns</p>\n",
       "</div>"
      ],
      "text/plain": [
       "   abdul  abdul kalam  and  and gorgeous  and more  and others  and science  \\\n",
       "0      1            1    2             0         0           1            1   \n",
       "1      0            0    1             0         1           0            0   \n",
       "2      0            0    1             0         0           0            0   \n",
       "3      0            0    1             1         0           0            0   \n",
       "\n",
       "   and the  are  are fed  ...  villages  villages similarly  wheat  \\\n",
       "0        0    1        0  ...         0                   0      1   \n",
       "1        0    2        1  ...         1                   1      0   \n",
       "2        1    2        0  ...         0                   0      0   \n",
       "3        0    0        0  ...         0                   0      0   \n",
       "\n",
       "   wheat producer  whole  whole world  world  world india  yamuna  \\\n",
       "0               1      1            1      1            1       0   \n",
       "1               0      0            0      0            0       1   \n",
       "2               0      0            0      0            0       0   \n",
       "3               0      0            0      0            0       0   \n",
       "\n",
       "   yamuna narmada  \n",
       "0               0  \n",
       "1               1  \n",
       "2               0  \n",
       "3               0  \n",
       "\n",
       "[4 rows x 188 columns]"
      ]
     },
     "execution_count": 32,
     "metadata": {},
     "output_type": "execute_result"
    }
   ],
   "source": [
    "df = pd.DataFrame(vect_data.toarray(),columns = cv.get_feature_names_out())\n",
    "df"
   ]
  },
  {
   "cell_type": "markdown",
   "metadata": {},
   "source": [
    "## TF*IDF(Term_Frequency, Inverse_Document_Frequency) "
   ]
  },
  {
   "cell_type": "code",
   "execution_count": 33,
   "metadata": {},
   "outputs": [],
   "source": [
    "from sklearn.feature_extraction.text import TfidfVectorizer\n",
    "import pandas as pd"
   ]
  },
  {
   "cell_type": "code",
   "execution_count": 34,
   "metadata": {},
   "outputs": [],
   "source": [
    "tfidf = TfidfVectorizer(stop_words='english')"
   ]
  },
  {
   "cell_type": "code",
   "execution_count": 35,
   "metadata": {},
   "outputs": [],
   "source": [
    "x_vect = tfidf.fit_transform(sentences)"
   ]
  },
  {
   "cell_type": "code",
   "execution_count": 36,
   "metadata": {},
   "outputs": [
    {
     "data": {
      "text/html": [
       "<div>\n",
       "<style scoped>\n",
       "    .dataframe tbody tr th:only-of-type {\n",
       "        vertical-align: middle;\n",
       "    }\n",
       "\n",
       "    .dataframe tbody tr th {\n",
       "        vertical-align: top;\n",
       "    }\n",
       "\n",
       "    .dataframe thead th {\n",
       "        text-align: right;\n",
       "    }\n",
       "</style>\n",
       "<table border=\"1\" class=\"dataframe\">\n",
       "  <thead>\n",
       "    <tr style=\"text-align: right;\">\n",
       "      <th></th>\n",
       "      <th>abdul</th>\n",
       "      <th>beauty</th>\n",
       "      <th>birth</th>\n",
       "      <th>coasts</th>\n",
       "      <th>country</th>\n",
       "      <th>cv</th>\n",
       "      <th>deep</th>\n",
       "      <th>dr</th>\n",
       "      <th>famous</th>\n",
       "      <th>fed</th>\n",
       "      <th>...</th>\n",
       "      <th>state</th>\n",
       "      <th>tagore</th>\n",
       "      <th>thousands</th>\n",
       "      <th>truly</th>\n",
       "      <th>valleys</th>\n",
       "      <th>variety</th>\n",
       "      <th>villages</th>\n",
       "      <th>wheat</th>\n",
       "      <th>world</th>\n",
       "      <th>yamuna</th>\n",
       "    </tr>\n",
       "  </thead>\n",
       "  <tbody>\n",
       "    <tr>\n",
       "      <th>0</th>\n",
       "      <td>0.206564</td>\n",
       "      <td>0.000000</td>\n",
       "      <td>0.206564</td>\n",
       "      <td>0.000000</td>\n",
       "      <td>0.131847</td>\n",
       "      <td>0.206564</td>\n",
       "      <td>0.000000</td>\n",
       "      <td>0.206564</td>\n",
       "      <td>0.206564</td>\n",
       "      <td>0.000000</td>\n",
       "      <td>...</td>\n",
       "      <td>0.000000</td>\n",
       "      <td>0.206564</td>\n",
       "      <td>0.000000</td>\n",
       "      <td>0.000000</td>\n",
       "      <td>0.000000</td>\n",
       "      <td>0.000000</td>\n",
       "      <td>0.000000</td>\n",
       "      <td>0.206564</td>\n",
       "      <td>0.206564</td>\n",
       "      <td>0.000000</td>\n",
       "    </tr>\n",
       "    <tr>\n",
       "      <th>1</th>\n",
       "      <td>0.000000</td>\n",
       "      <td>0.000000</td>\n",
       "      <td>0.000000</td>\n",
       "      <td>0.000000</td>\n",
       "      <td>0.161852</td>\n",
       "      <td>0.000000</td>\n",
       "      <td>0.000000</td>\n",
       "      <td>0.000000</td>\n",
       "      <td>0.000000</td>\n",
       "      <td>0.253572</td>\n",
       "      <td>...</td>\n",
       "      <td>0.000000</td>\n",
       "      <td>0.000000</td>\n",
       "      <td>0.253572</td>\n",
       "      <td>0.000000</td>\n",
       "      <td>0.000000</td>\n",
       "      <td>0.000000</td>\n",
       "      <td>0.253572</td>\n",
       "      <td>0.000000</td>\n",
       "      <td>0.000000</td>\n",
       "      <td>0.253572</td>\n",
       "    </tr>\n",
       "    <tr>\n",
       "      <th>2</th>\n",
       "      <td>0.000000</td>\n",
       "      <td>0.000000</td>\n",
       "      <td>0.000000</td>\n",
       "      <td>0.259554</td>\n",
       "      <td>0.165670</td>\n",
       "      <td>0.000000</td>\n",
       "      <td>0.259554</td>\n",
       "      <td>0.000000</td>\n",
       "      <td>0.000000</td>\n",
       "      <td>0.000000</td>\n",
       "      <td>...</td>\n",
       "      <td>0.259554</td>\n",
       "      <td>0.000000</td>\n",
       "      <td>0.000000</td>\n",
       "      <td>0.000000</td>\n",
       "      <td>0.000000</td>\n",
       "      <td>0.259554</td>\n",
       "      <td>0.000000</td>\n",
       "      <td>0.000000</td>\n",
       "      <td>0.000000</td>\n",
       "      <td>0.000000</td>\n",
       "    </tr>\n",
       "    <tr>\n",
       "      <th>3</th>\n",
       "      <td>0.000000</td>\n",
       "      <td>0.339998</td>\n",
       "      <td>0.000000</td>\n",
       "      <td>0.000000</td>\n",
       "      <td>0.000000</td>\n",
       "      <td>0.000000</td>\n",
       "      <td>0.000000</td>\n",
       "      <td>0.000000</td>\n",
       "      <td>0.000000</td>\n",
       "      <td>0.000000</td>\n",
       "      <td>...</td>\n",
       "      <td>0.000000</td>\n",
       "      <td>0.000000</td>\n",
       "      <td>0.000000</td>\n",
       "      <td>0.339998</td>\n",
       "      <td>0.339998</td>\n",
       "      <td>0.000000</td>\n",
       "      <td>0.000000</td>\n",
       "      <td>0.000000</td>\n",
       "      <td>0.000000</td>\n",
       "      <td>0.000000</td>\n",
       "    </tr>\n",
       "  </tbody>\n",
       "</table>\n",
       "<p>4 rows × 58 columns</p>\n",
       "</div>"
      ],
      "text/plain": [
       "      abdul    beauty     birth    coasts   country        cv      deep  \\\n",
       "0  0.206564  0.000000  0.206564  0.000000  0.131847  0.206564  0.000000   \n",
       "1  0.000000  0.000000  0.000000  0.000000  0.161852  0.000000  0.000000   \n",
       "2  0.000000  0.000000  0.000000  0.259554  0.165670  0.000000  0.259554   \n",
       "3  0.000000  0.339998  0.000000  0.000000  0.000000  0.000000  0.000000   \n",
       "\n",
       "         dr    famous       fed  ...     state    tagore  thousands     truly  \\\n",
       "0  0.206564  0.206564  0.000000  ...  0.000000  0.206564   0.000000  0.000000   \n",
       "1  0.000000  0.000000  0.253572  ...  0.000000  0.000000   0.253572  0.000000   \n",
       "2  0.000000  0.000000  0.000000  ...  0.259554  0.000000   0.000000  0.000000   \n",
       "3  0.000000  0.000000  0.000000  ...  0.000000  0.000000   0.000000  0.339998   \n",
       "\n",
       "    valleys   variety  villages     wheat     world    yamuna  \n",
       "0  0.000000  0.000000  0.000000  0.206564  0.206564  0.000000  \n",
       "1  0.000000  0.000000  0.253572  0.000000  0.000000  0.253572  \n",
       "2  0.000000  0.259554  0.000000  0.000000  0.000000  0.000000  \n",
       "3  0.339998  0.000000  0.000000  0.000000  0.000000  0.000000  \n",
       "\n",
       "[4 rows x 58 columns]"
      ]
     },
     "execution_count": 36,
     "metadata": {},
     "output_type": "execute_result"
    }
   ],
   "source": [
    "df = pd.DataFrame(data=x_vect.toarray(),\n",
    "                  columns=tfidf.get_feature_names_out())\n",
    "\n",
    "df"
   ]
  },
  {
   "cell_type": "code",
   "execution_count": 37,
   "metadata": {},
   "outputs": [],
   "source": [
    "from sklearn.feature_extraction.text import TfidfTransformer\n",
    "from sklearn.feature_extraction.text import CountVectorizer"
   ]
  },
  {
   "cell_type": "code",
   "execution_count": 38,
   "metadata": {},
   "outputs": [],
   "source": [
    "cv = CountVectorizer()"
   ]
  },
  {
   "cell_type": "code",
   "execution_count": 39,
   "metadata": {},
   "outputs": [],
   "source": [
    "word_vector = cv.fit_transform(sentences)\n",
    "tfidf_transformer = TfidfTransformer()\n",
    "x = tfidf_transformer.fit_transform(word_vector)"
   ]
  },
  {
   "cell_type": "code",
   "execution_count": 40,
   "metadata": {},
   "outputs": [
    {
     "data": {
      "text/html": [
       "<div>\n",
       "<style scoped>\n",
       "    .dataframe tbody tr th:only-of-type {\n",
       "        vertical-align: middle;\n",
       "    }\n",
       "\n",
       "    .dataframe tbody tr th {\n",
       "        vertical-align: top;\n",
       "    }\n",
       "\n",
       "    .dataframe thead th {\n",
       "        text-align: right;\n",
       "    }\n",
       "</style>\n",
       "<table border=\"1\" class=\"dataframe\">\n",
       "  <thead>\n",
       "    <tr style=\"text-align: right;\">\n",
       "      <th></th>\n",
       "      <th>abdul</th>\n",
       "      <th>and</th>\n",
       "      <th>are</th>\n",
       "      <th>beauty</th>\n",
       "      <th>being</th>\n",
       "      <th>birth</th>\n",
       "      <th>by</th>\n",
       "      <th>coasts</th>\n",
       "      <th>country</th>\n",
       "      <th>cv</th>\n",
       "      <th>...</th>\n",
       "      <th>to</th>\n",
       "      <th>together</th>\n",
       "      <th>truly</th>\n",
       "      <th>valleys</th>\n",
       "      <th>variety</th>\n",
       "      <th>villages</th>\n",
       "      <th>wheat</th>\n",
       "      <th>whole</th>\n",
       "      <th>world</th>\n",
       "      <th>yamuna</th>\n",
       "    </tr>\n",
       "  </thead>\n",
       "  <tbody>\n",
       "    <tr>\n",
       "      <th>0</th>\n",
       "      <td>0.160494</td>\n",
       "      <td>0.167505</td>\n",
       "      <td>0.102441</td>\n",
       "      <td>0.000000</td>\n",
       "      <td>0.00000</td>\n",
       "      <td>0.160494</td>\n",
       "      <td>0.000000</td>\n",
       "      <td>0.00000</td>\n",
       "      <td>0.102441</td>\n",
       "      <td>0.160494</td>\n",
       "      <td>...</td>\n",
       "      <td>0.126536</td>\n",
       "      <td>0.00000</td>\n",
       "      <td>0.000000</td>\n",
       "      <td>0.000000</td>\n",
       "      <td>0.00000</td>\n",
       "      <td>0.000000</td>\n",
       "      <td>0.160494</td>\n",
       "      <td>0.160494</td>\n",
       "      <td>0.160494</td>\n",
       "      <td>0.000000</td>\n",
       "    </tr>\n",
       "    <tr>\n",
       "      <th>1</th>\n",
       "      <td>0.000000</td>\n",
       "      <td>0.097453</td>\n",
       "      <td>0.238397</td>\n",
       "      <td>0.000000</td>\n",
       "      <td>0.00000</td>\n",
       "      <td>0.000000</td>\n",
       "      <td>0.147234</td>\n",
       "      <td>0.00000</td>\n",
       "      <td>0.119199</td>\n",
       "      <td>0.000000</td>\n",
       "      <td>...</td>\n",
       "      <td>0.147234</td>\n",
       "      <td>0.00000</td>\n",
       "      <td>0.000000</td>\n",
       "      <td>0.000000</td>\n",
       "      <td>0.00000</td>\n",
       "      <td>0.186748</td>\n",
       "      <td>0.000000</td>\n",
       "      <td>0.000000</td>\n",
       "      <td>0.000000</td>\n",
       "      <td>0.186748</td>\n",
       "    </tr>\n",
       "    <tr>\n",
       "      <th>2</th>\n",
       "      <td>0.000000</td>\n",
       "      <td>0.099651</td>\n",
       "      <td>0.243775</td>\n",
       "      <td>0.000000</td>\n",
       "      <td>0.19096</td>\n",
       "      <td>0.000000</td>\n",
       "      <td>0.150555</td>\n",
       "      <td>0.19096</td>\n",
       "      <td>0.121888</td>\n",
       "      <td>0.000000</td>\n",
       "      <td>...</td>\n",
       "      <td>0.000000</td>\n",
       "      <td>0.19096</td>\n",
       "      <td>0.000000</td>\n",
       "      <td>0.000000</td>\n",
       "      <td>0.19096</td>\n",
       "      <td>0.000000</td>\n",
       "      <td>0.000000</td>\n",
       "      <td>0.000000</td>\n",
       "      <td>0.000000</td>\n",
       "      <td>0.000000</td>\n",
       "    </tr>\n",
       "    <tr>\n",
       "      <th>3</th>\n",
       "      <td>0.000000</td>\n",
       "      <td>0.159592</td>\n",
       "      <td>0.000000</td>\n",
       "      <td>0.305824</td>\n",
       "      <td>0.00000</td>\n",
       "      <td>0.000000</td>\n",
       "      <td>0.000000</td>\n",
       "      <td>0.00000</td>\n",
       "      <td>0.000000</td>\n",
       "      <td>0.000000</td>\n",
       "      <td>...</td>\n",
       "      <td>0.000000</td>\n",
       "      <td>0.00000</td>\n",
       "      <td>0.305824</td>\n",
       "      <td>0.305824</td>\n",
       "      <td>0.00000</td>\n",
       "      <td>0.000000</td>\n",
       "      <td>0.000000</td>\n",
       "      <td>0.000000</td>\n",
       "      <td>0.000000</td>\n",
       "      <td>0.000000</td>\n",
       "    </tr>\n",
       "  </tbody>\n",
       "</table>\n",
       "<p>4 rows × 77 columns</p>\n",
       "</div>"
      ],
      "text/plain": [
       "      abdul       and       are    beauty    being     birth        by  \\\n",
       "0  0.160494  0.167505  0.102441  0.000000  0.00000  0.160494  0.000000   \n",
       "1  0.000000  0.097453  0.238397  0.000000  0.00000  0.000000  0.147234   \n",
       "2  0.000000  0.099651  0.243775  0.000000  0.19096  0.000000  0.150555   \n",
       "3  0.000000  0.159592  0.000000  0.305824  0.00000  0.000000  0.000000   \n",
       "\n",
       "    coasts   country        cv  ...        to  together     truly   valleys  \\\n",
       "0  0.00000  0.102441  0.160494  ...  0.126536   0.00000  0.000000  0.000000   \n",
       "1  0.00000  0.119199  0.000000  ...  0.147234   0.00000  0.000000  0.000000   \n",
       "2  0.19096  0.121888  0.000000  ...  0.000000   0.19096  0.000000  0.000000   \n",
       "3  0.00000  0.000000  0.000000  ...  0.000000   0.00000  0.305824  0.305824   \n",
       "\n",
       "   variety  villages     wheat     whole     world    yamuna  \n",
       "0  0.00000  0.000000  0.160494  0.160494  0.160494  0.000000  \n",
       "1  0.00000  0.186748  0.000000  0.000000  0.000000  0.186748  \n",
       "2  0.19096  0.000000  0.000000  0.000000  0.000000  0.000000  \n",
       "3  0.00000  0.000000  0.000000  0.000000  0.000000  0.000000  \n",
       "\n",
       "[4 rows x 77 columns]"
      ]
     },
     "execution_count": 40,
     "metadata": {},
     "output_type": "execute_result"
    }
   ],
   "source": [
    "df = pd.DataFrame(data=x.toarray(),columns=cv.get_feature_names_out())\n",
    "df"
   ]
  },
  {
   "cell_type": "markdown",
   "metadata": {},
   "source": [
    "# Text_Clustering"
   ]
  },
  {
   "cell_type": "code",
   "execution_count": 20,
   "metadata": {},
   "outputs": [],
   "source": [
    "import pandas as pd\n",
    "import numpy as np\n",
    "import matplotlib.pyplot as plt"
   ]
  },
  {
   "cell_type": "code",
   "execution_count": 21,
   "metadata": {},
   "outputs": [],
   "source": [
    "file = open('./bbc-text-data.csv')"
   ]
  },
  {
   "cell_type": "code",
   "execution_count": 22,
   "metadata": {},
   "outputs": [],
   "source": [
    "data = file.readlines()"
   ]
  },
  {
   "cell_type": "code",
   "execution_count": 23,
   "metadata": {},
   "outputs": [
    {
     "data": {
      "text/plain": [
       "2225"
      ]
     },
     "execution_count": 23,
     "metadata": {},
     "output_type": "execute_result"
    }
   ],
   "source": [
    "len(data)"
   ]
  },
  {
   "cell_type": "markdown",
   "metadata": {},
   "source": [
    "### Feature Exraction"
   ]
  },
  {
   "cell_type": "code",
   "execution_count": 24,
   "metadata": {},
   "outputs": [],
   "source": [
    "from sklearn.feature_extraction.text import TfidfVectorizer"
   ]
  },
  {
   "cell_type": "code",
   "execution_count": 25,
   "metadata": {},
   "outputs": [],
   "source": [
    "tfidf = TfidfVectorizer(stop_words='english')"
   ]
  },
  {
   "cell_type": "code",
   "execution_count": 26,
   "metadata": {},
   "outputs": [],
   "source": [
    "x_vect = tfidf.fit_transform(data)"
   ]
  },
  {
   "cell_type": "code",
   "execution_count": 27,
   "metadata": {},
   "outputs": [
    {
     "data": {
      "text/plain": [
       "(2225, 29126)"
      ]
     },
     "execution_count": 27,
     "metadata": {},
     "output_type": "execute_result"
    }
   ],
   "source": [
    "x_vect.shape"
   ]
  },
  {
   "cell_type": "markdown",
   "metadata": {},
   "source": [
    "### Elbow method"
   ]
  },
  {
   "cell_type": "code",
   "execution_count": 28,
   "metadata": {},
   "outputs": [],
   "source": [
    "from sklearn.cluster import KMeans"
   ]
  },
  {
   "cell_type": "code",
   "execution_count": 29,
   "metadata": {},
   "outputs": [
    {
     "name": "stderr",
     "output_type": "stream",
     "text": [
      "/home/dai/anaconda3/lib/python3.11/site-packages/sklearn/cluster/_kmeans.py:1412: FutureWarning: The default value of `n_init` will change from 10 to 'auto' in 1.4. Set the value of `n_init` explicitly to suppress the warning\n",
      "  super()._check_params_vs_input(X, default_n_init=10)\n",
      "/home/dai/anaconda3/lib/python3.11/site-packages/sklearn/cluster/_kmeans.py:1412: FutureWarning: The default value of `n_init` will change from 10 to 'auto' in 1.4. Set the value of `n_init` explicitly to suppress the warning\n",
      "  super()._check_params_vs_input(X, default_n_init=10)\n"
     ]
    }
   ],
   "source": [
    "sse = []\n",
    "for k in range(1,16):\n",
    "    km = KMeans(n_clusters=k,random_state=0)\n",
    "    km.fit_predict(x_vect)\n",
    "    sse.append(km.inertia_)"
   ]
  },
  {
   "cell_type": "code",
   "execution_count": 51,
   "metadata": {},
   "outputs": [
    {
     "data": {
      "text/plain": [
       "15"
      ]
     },
     "execution_count": 51,
     "metadata": {},
     "output_type": "execute_result"
    }
   ],
   "source": [
    "len(sse)"
   ]
  },
  {
   "cell_type": "code",
   "execution_count": 52,
   "metadata": {},
   "outputs": [
    {
     "data": {
      "text/plain": [
       "[<matplotlib.lines.Line2D at 0x7f0828bbce10>]"
      ]
     },
     "execution_count": 52,
     "metadata": {},
     "output_type": "execute_result"
    },
    {
     "data": {
      "image/png": "[encoded data removed]",
      "text/plain": [
       "<Figure size 640x480 with 1 Axes>"
      ]
     },
     "metadata": {},
     "output_type": "display_data"
    }
   ],
   "source": [
    "plt.plot(range(1,16),sse)"
   ]
  },
  {
   "cell_type": "code",
   "execution_count": 53,
   "metadata": {},
   "outputs": [],
   "source": [
    "#pip install kneed"
   ]
  },
  {
   "cell_type": "code",
   "execution_count": 54,
   "metadata": {},
   "outputs": [],
   "source": [
    "from kneed import KneeLocator"
   ]
  },
  {
   "cell_type": "code",
   "execution_count": 68,
   "metadata": {},
   "outputs": [],
   "source": [
    "kl = KneeLocator(range(1,16),sse,curve=\"convex\",direction=\"decreasing\")"
   ]
  },
  {
   "cell_type": "code",
   "execution_count": 69,
   "metadata": {},
   "outputs": [
    {
     "data": {
      "text/plain": [
       "8"
      ]
     },
     "execution_count": 69,
     "metadata": {},
     "output_type": "execute_result"
    }
   ],
   "source": [
    "kl.elbow"
   ]
  },
  {
   "cell_type": "code",
   "execution_count": 61,
   "metadata": {},
   "outputs": [],
   "source": [
    "km = KMeans(n_clusters=8,random_state=0)\n",
    "labels = km.fit_predict(x_vect)"
   ]
  },
  {
   "cell_type": "code",
   "execution_count": 62,
   "metadata": {},
   "outputs": [
    {
     "data": {
      "text/plain": [
       "array([5, 7, 2, ..., 7, 7, 2], dtype=int32)"
      ]
     },
     "execution_count": 62,
     "metadata": {},
     "output_type": "execute_result"
    }
   ],
   "source": [
    "labels"
   ]
  },
  {
   "cell_type": "code",
   "execution_count": 63,
   "metadata": {},
   "outputs": [
    {
     "data": {
      "text/plain": [
       "array([5, 7, 2, ..., 7, 7, 2], dtype=int32)"
      ]
     },
     "execution_count": 63,
     "metadata": {},
     "output_type": "execute_result"
    }
   ],
   "source": [
    "km.labels_"
   ]
  },
  {
   "cell_type": "code",
   "execution_count": 70,
   "metadata": {},
   "outputs": [
    {
     "data": {
      "text/plain": [
       "2225"
      ]
     },
     "execution_count": 70,
     "metadata": {},
     "output_type": "execute_result"
    }
   ],
   "source": [
    "len(labels)"
   ]
  },
  {
   "cell_type": "code",
   "execution_count": 73,
   "metadata": {},
   "outputs": [
    {
     "data": {
      "text/plain": [
       "2225"
      ]
     },
     "execution_count": 73,
     "metadata": {},
     "output_type": "execute_result"
    }
   ],
   "source": [
    "df = pd.DataFrame(data,columns=['text'])\n",
    "len(df)"
   ]
  },
  {
   "cell_type": "code",
   "execution_count": 75,
   "metadata": {},
   "outputs": [
    {
     "name": "stdout",
     "output_type": "stream",
     "text": [
      "324\n"
     ]
    },
    {
     "data": {
      "text/html": [
       "<div>\n",
       "<style scoped>\n",
       "    .dataframe tbody tr th:only-of-type {\n",
       "        vertical-align: middle;\n",
       "    }\n",
       "\n",
       "    .dataframe tbody tr th {\n",
       "        vertical-align: top;\n",
       "    }\n",
       "\n",
       "    .dataframe thead th {\n",
       "        text-align: right;\n",
       "    }\n",
       "</style>\n",
       "<table border=\"1\" class=\"dataframe\">\n",
       "  <thead>\n",
       "    <tr style=\"text-align: right;\">\n",
       "      <th></th>\n",
       "      <th>text</th>\n",
       "    </tr>\n",
       "  </thead>\n",
       "  <tbody>\n",
       "    <tr>\n",
       "      <th>2</th>\n",
       "      <td>tigers wary of farrell  gamble  leicester say ...</td>\n",
       "    </tr>\n",
       "    <tr>\n",
       "      <th>3</th>\n",
       "      <td>yeading face newcastle in fa cup premiership s...</td>\n",
       "    </tr>\n",
       "    <tr>\n",
       "      <th>8</th>\n",
       "      <td>wilkinson fit to face edinburgh england captai...</td>\n",
       "    </tr>\n",
       "    <tr>\n",
       "      <th>22</th>\n",
       "      <td>bates seals takeover ken bates has completed h...</td>\n",
       "    </tr>\n",
       "    <tr>\n",
       "      <th>23</th>\n",
       "      <td>cole faces lengthy injury lay-off aston villa ...</td>\n",
       "    </tr>\n",
       "    <tr>\n",
       "      <th>...</th>\n",
       "      <td>...</td>\n",
       "    </tr>\n",
       "    <tr>\n",
       "      <th>2188</th>\n",
       "      <td>mexicans tracking unhappy juninho mexican outf...</td>\n",
       "    </tr>\n",
       "    <tr>\n",
       "      <th>2195</th>\n",
       "      <td>owen delighted with real display michael owen ...</td>\n",
       "    </tr>\n",
       "    <tr>\n",
       "      <th>2209</th>\n",
       "      <td>time to get tough on friendlies  for an intern...</td>\n",
       "    </tr>\n",
       "    <tr>\n",
       "      <th>2218</th>\n",
       "      <td>davies favours gloucester future wales hooker ...</td>\n",
       "    </tr>\n",
       "    <tr>\n",
       "      <th>2224</th>\n",
       "      <td>souness delight at euro progress boss graeme s...</td>\n",
       "    </tr>\n",
       "  </tbody>\n",
       "</table>\n",
       "<p>324 rows × 1 columns</p>\n",
       "</div>"
      ],
      "text/plain": [
       "                                                   text\n",
       "2     tigers wary of farrell  gamble  leicester say ...\n",
       "3     yeading face newcastle in fa cup premiership s...\n",
       "8     wilkinson fit to face edinburgh england captai...\n",
       "22    bates seals takeover ken bates has completed h...\n",
       "23    cole faces lengthy injury lay-off aston villa ...\n",
       "...                                                 ...\n",
       "2188  mexicans tracking unhappy juninho mexican outf...\n",
       "2195  owen delighted with real display michael owen ...\n",
       "2209  time to get tough on friendlies  for an intern...\n",
       "2218  davies favours gloucester future wales hooker ...\n",
       "2224  souness delight at euro progress boss graeme s...\n",
       "\n",
       "[324 rows x 1 columns]"
      ]
     },
     "execution_count": 75,
     "metadata": {},
     "output_type": "execute_result"
    }
   ],
   "source": [
    "print(len(df[labels==2]))\n",
    "df[labels==2]"
   ]
  },
  {
   "cell_type": "code",
   "execution_count": 76,
   "metadata": {},
   "outputs": [
    {
     "name": "stdout",
     "output_type": "stream",
     "text": [
      "0:  50\n",
      "1:  184\n",
      "2:  324\n",
      "3:  205\n",
      "4:  168\n",
      "5:  367\n",
      "6:  187\n",
      "7:  740\n",
      "8:  0\n",
      "9:  0\n",
      "10:  0\n",
      "11:  0\n",
      "12:  0\n",
      "13:  0\n",
      "14:  0\n",
      "15:  0\n",
      "16:  0\n",
      "17:  0\n",
      "18:  0\n",
      "19:  0\n",
      "20:  0\n",
      "21:  0\n",
      "22:  0\n",
      "23:  0\n",
      "24:  0\n",
      "25:  0\n",
      "26:  0\n",
      "27:  0\n",
      "28:  0\n",
      "29:  0\n",
      "30:  0\n",
      "31:  0\n",
      "32:  0\n",
      "33:  0\n",
      "34:  0\n",
      "35:  0\n",
      "36:  0\n",
      "37:  0\n",
      "38:  0\n",
      "39:  0\n",
      "40:  0\n",
      "41:  0\n",
      "42:  0\n",
      "43:  0\n",
      "44:  0\n",
      "45:  0\n",
      "46:  0\n",
      "47:  0\n",
      "48:  0\n",
      "49:  0\n",
      "50:  0\n",
      "51:  0\n",
      "52:  0\n",
      "53:  0\n",
      "54:  0\n",
      "55:  0\n",
      "56:  0\n",
      "57:  0\n",
      "58:  0\n",
      "59:  0\n",
      "60:  0\n",
      "61:  0\n",
      "62:  0\n",
      "63:  0\n",
      "64:  0\n",
      "65:  0\n",
      "66:  0\n",
      "67:  0\n",
      "68:  0\n",
      "69:  0\n",
      "70:  0\n",
      "71:  0\n",
      "72:  0\n",
      "73:  0\n",
      "74:  0\n",
      "75:  0\n",
      "76:  0\n",
      "77:  0\n",
      "78:  0\n",
      "79:  0\n",
      "80:  0\n",
      "81:  0\n",
      "82:  0\n",
      "83:  0\n",
      "84:  0\n",
      "85:  0\n",
      "86:  0\n",
      "87:  0\n",
      "88:  0\n",
      "89:  0\n",
      "90:  0\n",
      "91:  0\n",
      "92:  0\n",
      "93:  0\n",
      "94:  0\n",
      "95:  0\n",
      "96:  0\n",
      "97:  0\n",
      "98:  0\n",
      "99:  0\n",
      "100:  0\n",
      "101:  0\n",
      "102:  0\n",
      "103:  0\n",
      "104:  0\n",
      "105:  0\n",
      "106:  0\n",
      "107:  0\n",
      "108:  0\n",
      "109:  0\n",
      "110:  0\n",
      "111:  0\n",
      "112:  0\n",
      "113:  0\n",
      "114:  0\n",
      "115:  0\n",
      "116:  0\n",
      "117:  0\n",
      "118:  0\n",
      "119:  0\n",
      "120:  0\n",
      "121:  0\n",
      "122:  0\n",
      "123:  0\n",
      "124:  0\n",
      "125:  0\n",
      "126:  0\n",
      "127:  0\n",
      "128:  0\n",
      "129:  0\n",
      "130:  0\n",
      "131:  0\n",
      "132:  0\n",
      "133:  0\n",
      "134:  0\n",
      "135:  0\n",
      "136:  0\n",
      "137:  0\n",
      "138:  0\n",
      "139:  0\n",
      "140:  0\n",
      "141:  0\n",
      "142:  0\n",
      "143:  0\n",
      "144:  0\n",
      "145:  0\n",
      "146:  0\n",
      "147:  0\n",
      "148:  0\n",
      "149:  0\n",
      "150:  0\n",
      "151:  0\n",
      "152:  0\n",
      "153:  0\n",
      "154:  0\n",
      "155:  0\n",
      "156:  0\n",
      "157:  0\n",
      "158:  0\n",
      "159:  0\n",
      "160:  0\n",
      "161:  0\n",
      "162:  0\n",
      "163:  0\n",
      "164:  0\n",
      "165:  0\n",
      "166:  0\n",
      "167:  0\n",
      "168:  0\n",
      "169:  0\n",
      "170:  0\n",
      "171:  0\n",
      "172:  0\n",
      "173:  0\n",
      "174:  0\n",
      "175:  0\n",
      "176:  0\n",
      "177:  0\n",
      "178:  0\n",
      "179:  0\n",
      "180:  0\n",
      "181:  0\n",
      "182:  0\n",
      "183:  0\n",
      "184:  0\n",
      "185:  0\n",
      "186:  0\n",
      "187:  0\n",
      "188:  0\n",
      "189:  0\n",
      "190:  0\n",
      "191:  0\n",
      "192:  0\n",
      "193:  0\n",
      "194:  0\n",
      "195:  0\n",
      "196:  0\n",
      "197:  0\n",
      "198:  0\n",
      "199:  0\n",
      "200:  0\n",
      "201:  0\n",
      "202:  0\n",
      "203:  0\n",
      "204:  0\n",
      "205:  0\n",
      "206:  0\n",
      "207:  0\n",
      "208:  0\n",
      "209:  0\n",
      "210:  0\n",
      "211:  0\n",
      "212:  0\n",
      "213:  0\n",
      "214:  0\n",
      "215:  0\n",
      "216:  0\n",
      "217:  0\n",
      "218:  0\n",
      "219:  0\n",
      "220:  0\n",
      "221:  0\n",
      "222:  0\n",
      "223:  0\n",
      "224:  0\n",
      "225:  0\n",
      "226:  0\n",
      "227:  0\n",
      "228:  0\n",
      "229:  0\n",
      "230:  0\n",
      "231:  0\n",
      "232:  0\n",
      "233:  0\n",
      "234:  0\n",
      "235:  0\n",
      "236:  0\n",
      "237:  0\n",
      "238:  0\n",
      "239:  0\n",
      "240:  0\n",
      "241:  0\n",
      "242:  0\n",
      "243:  0\n",
      "244:  0\n",
      "245:  0\n",
      "246:  0\n",
      "247:  0\n",
      "248:  0\n",
      "249:  0\n",
      "250:  0\n",
      "251:  0\n",
      "252:  0\n",
      "253:  0\n",
      "254:  0\n",
      "255:  0\n",
      "256:  0\n",
      "257:  0\n",
      "258:  0\n",
      "259:  0\n",
      "260:  0\n",
      "261:  0\n",
      "262:  0\n",
      "263:  0\n",
      "264:  0\n",
      "265:  0\n",
      "266:  0\n",
      "267:  0\n",
      "268:  0\n",
      "269:  0\n",
      "270:  0\n",
      "271:  0\n",
      "272:  0\n",
      "273:  0\n",
      "274:  0\n",
      "275:  0\n",
      "276:  0\n",
      "277:  0\n",
      "278:  0\n",
      "279:  0\n",
      "280:  0\n",
      "281:  0\n",
      "282:  0\n",
      "283:  0\n",
      "284:  0\n",
      "285:  0\n",
      "286:  0\n",
      "287:  0\n",
      "288:  0\n",
      "289:  0\n",
      "290:  0\n",
      "291:  0\n",
      "292:  0\n",
      "293:  0\n",
      "294:  0\n",
      "295:  0\n",
      "296:  0\n",
      "297:  0\n",
      "298:  0\n",
      "299:  0\n",
      "300:  0\n",
      "301:  0\n",
      "302:  0\n",
      "303:  0\n",
      "304:  0\n",
      "305:  0\n",
      "306:  0\n",
      "307:  0\n",
      "308:  0\n",
      "309:  0\n",
      "310:  0\n",
      "311:  0\n",
      "312:  0\n",
      "313:  0\n",
      "314:  0\n",
      "315:  0\n",
      "316:  0\n",
      "317:  0\n",
      "318:  0\n",
      "319:  0\n",
      "320:  0\n",
      "321:  0\n",
      "322:  0\n",
      "323:  0\n"
     ]
    }
   ],
   "source": [
    "for i in range(len(df[labels==2])):\n",
    "    print(f\"{i}: \",len(df[labels==i]))"
   ]
  },
  {
   "cell_type": "code",
   "execution_count": 78,
   "metadata": {},
   "outputs": [
    {
     "data": {
      "text/html": [
       "<div>\n",
       "<style scoped>\n",
       "    .dataframe tbody tr th:only-of-type {\n",
       "        vertical-align: middle;\n",
       "    }\n",
       "\n",
       "    .dataframe tbody tr th {\n",
       "        vertical-align: top;\n",
       "    }\n",
       "\n",
       "    .dataframe thead th {\n",
       "        text-align: right;\n",
       "    }\n",
       "</style>\n",
       "<table border=\"1\" class=\"dataframe\">\n",
       "  <thead>\n",
       "    <tr style=\"text-align: right;\">\n",
       "      <th></th>\n",
       "      <th>text</th>\n",
       "    </tr>\n",
       "  </thead>\n",
       "  <tbody>\n",
       "    <tr>\n",
       "      <th>4</th>\n",
       "      <td>ocean s twelve raids box office ocean s twelve...</td>\n",
       "    </tr>\n",
       "    <tr>\n",
       "      <th>9</th>\n",
       "      <td>last star wars  not for children  the sixth an...</td>\n",
       "    </tr>\n",
       "    <tr>\n",
       "      <th>10</th>\n",
       "      <td>berlin cheers for anti-nazi film a german movi...</td>\n",
       "    </tr>\n",
       "    <tr>\n",
       "      <th>26</th>\n",
       "      <td>career honour for actor dicaprio actor leonard...</td>\n",
       "    </tr>\n",
       "    <tr>\n",
       "      <th>29</th>\n",
       "      <td>halloween writer debra hill dies screenwriter ...</td>\n",
       "    </tr>\n",
       "    <tr>\n",
       "      <th>...</th>\n",
       "      <td>...</td>\n",
       "    </tr>\n",
       "    <tr>\n",
       "      <th>2165</th>\n",
       "      <td>briton wins short film oscar three of the five...</td>\n",
       "    </tr>\n",
       "    <tr>\n",
       "      <th>2178</th>\n",
       "      <td>hollywood ready for oscars night hollywood is ...</td>\n",
       "    </tr>\n",
       "    <tr>\n",
       "      <th>2181</th>\n",
       "      <td>women in film  are earning less  women in the ...</td>\n",
       "    </tr>\n",
       "    <tr>\n",
       "      <th>2208</th>\n",
       "      <td>snicket tops us box office chart the film adap...</td>\n",
       "    </tr>\n",
       "    <tr>\n",
       "      <th>2211</th>\n",
       "      <td>lopez misses uk charity premiere jennifer lope...</td>\n",
       "    </tr>\n",
       "  </tbody>\n",
       "</table>\n",
       "<p>184 rows × 1 columns</p>\n",
       "</div>"
      ],
      "text/plain": [
       "                                                   text\n",
       "4     ocean s twelve raids box office ocean s twelve...\n",
       "9     last star wars  not for children  the sixth an...\n",
       "10    berlin cheers for anti-nazi film a german movi...\n",
       "26    career honour for actor dicaprio actor leonard...\n",
       "29    halloween writer debra hill dies screenwriter ...\n",
       "...                                                 ...\n",
       "2165  briton wins short film oscar three of the five...\n",
       "2178  hollywood ready for oscars night hollywood is ...\n",
       "2181  women in film  are earning less  women in the ...\n",
       "2208  snicket tops us box office chart the film adap...\n",
       "2211  lopez misses uk charity premiere jennifer lope...\n",
       "\n",
       "[184 rows x 1 columns]"
      ]
     },
     "execution_count": 78,
     "metadata": {},
     "output_type": "execute_result"
    }
   ],
   "source": [
    "df[labels==1]"
   ]
  },
  {
   "cell_type": "code",
   "execution_count": null,
   "metadata": {},
   "outputs": [],
   "source": []
  }
 ],
 "metadata": {
  "kernelspec": {
   "display_name": "base",
   "language": "python",
   "name": "python3"
  },
  "language_info": {
   "codemirror_mode": {
    "name": "ipython",
    "version": 3
   },
   "file_extension": ".py",
   "mimetype": "text/x-python",
   "name": "python",
   "nbconvert_exporter": "python",
   "pygments_lexer": "ipython3",
   "version": "3.11.5"
  },
  "orig_nbformat": 4
 },
 "nbformat": 4,
 "nbformat_minor": 2
}
