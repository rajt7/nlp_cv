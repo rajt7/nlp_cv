{
 "cells": [
  {
   "cell_type": "markdown",
   "metadata": {},
   "source": [
    "Remove punctuations"
   ]
  },
  {
   "cell_type": "code",
   "execution_count": 3,
   "metadata": {},
   "outputs": [],
   "source": [
    "text = \"\"\"Tendulkar took up cricket at the age of eleven, made his Test match debut on 15 November 1989 against Pakistan in Karachi at the age of sixteen, and went on to represent Mumbai domestically and India internationally for over 24 years.[9] In 2002, halfway through his career, Wisden ranked him the second-greatest Test batsman of all time, behind Don Bradman, and the second-greatest ODI batsman of all time, behind Viv Richards.[10] The same year, Tendulkar was a part of the team that was one of the joint-winners of the 2002 ICC Champions Trophy. Later in his career, Tendulkar was part of the Indian team that won the 2011 Cricket World Cup, his first win in six World Cup appearances for India.[11] He had previously been named \"Player of the Tournament\" at the 2003 World Cup.\"\"\""
   ]
  },
  {
   "cell_type": "code",
   "execution_count": 8,
   "metadata": {},
   "outputs": [],
   "source": [
    "import string\n",
    "string.punctuation\n",
    "from nltk.tokenize import word_tokenize"
   ]
  },
  {
   "cell_type": "code",
   "execution_count": 7,
   "metadata": {},
   "outputs": [
    {
     "data": {
      "text/plain": [
       "'Tendulkar took up cricket at the age of eleven made his Test match debut on 15 November 1989 against Pakistan in Karachi at the age of sixteen and went on to represent Mumbai domestically and India internationally for over 24 years9 In 2002 halfway through his career Wisden ranked him the secondgreatest Test batsman of all time behind Don Bradman and the secondgreatest ODI batsman of all time behind Viv Richards10 The same year Tendulkar was a part of the team that was one of the jointwinners of the 2002 ICC Champions Trophy Later in his career Tendulkar was part of the Indian team that won the 2011 Cricket World Cup his first win in six World Cup appearances for India11 He had previously been named Player of the Tournament at the 2003 World Cup'"
      ]
     },
     "execution_count": 7,
     "metadata": {},
     "output_type": "execute_result"
    }
   ],
   "source": [
    "str1 = \"\"\n",
    "for i in text:\n",
    "    if i not in string.punctuation:\n",
    "        str1+=i\n",
    "str1"
   ]
  },
  {
   "cell_type": "code",
   "execution_count": 10,
   "metadata": {},
   "outputs": [],
   "source": [
    "from nltk.corpus import stopwords"
   ]
  },
  {
   "cell_type": "code",
   "execution_count": 23,
   "metadata": {},
   "outputs": [
    {
     "data": {
      "text/plain": [
       "['tendulkar',\n",
       " 'took',\n",
       " 'cricket',\n",
       " 'age',\n",
       " 'eleven',\n",
       " 'made',\n",
       " 'test',\n",
       " 'match',\n",
       " 'debut',\n",
       " '15',\n",
       " 'november',\n",
       " '1989',\n",
       " 'pakistan',\n",
       " 'karachi',\n",
       " 'age',\n",
       " 'sixteen',\n",
       " 'went',\n",
       " 'represent',\n",
       " 'mumbai',\n",
       " 'domestically',\n",
       " 'india',\n",
       " 'internationally',\n",
       " '24',\n",
       " 'years9',\n",
       " '2002',\n",
       " 'halfway',\n",
       " 'career',\n",
       " 'wisden',\n",
       " 'ranked',\n",
       " 'secondgreatest',\n",
       " 'test',\n",
       " 'batsman',\n",
       " 'time',\n",
       " 'behind',\n",
       " 'bradman',\n",
       " 'secondgreatest',\n",
       " 'odi',\n",
       " 'batsman',\n",
       " 'time',\n",
       " 'behind',\n",
       " 'viv',\n",
       " 'richards10',\n",
       " 'year',\n",
       " 'tendulkar',\n",
       " 'part',\n",
       " 'team',\n",
       " 'one',\n",
       " 'jointwinners',\n",
       " '2002',\n",
       " 'icc',\n",
       " 'champions',\n",
       " 'trophy',\n",
       " 'later',\n",
       " 'career',\n",
       " 'tendulkar',\n",
       " 'part',\n",
       " 'indian',\n",
       " 'team',\n",
       " '2011',\n",
       " 'cricket',\n",
       " 'world',\n",
       " 'cup',\n",
       " 'first',\n",
       " 'win',\n",
       " 'six',\n",
       " 'world',\n",
       " 'cup',\n",
       " 'appearances',\n",
       " 'india11',\n",
       " 'previously',\n",
       " 'named',\n",
       " 'player',\n",
       " 'tournament',\n",
       " '2003',\n",
       " 'world',\n",
       " 'cup']"
      ]
     },
     "execution_count": 23,
     "metadata": {},
     "output_type": "execute_result"
    }
   ],
   "source": [
    "stopword = stopwords.words(\"english\")\n",
    "clean_words = []\n",
    "for word in str1.lower().split():\n",
    "    if word not in set(stopword):\n",
    "        clean_words.append(word)\n",
    "clean_words\n"
   ]
  },
  {
   "cell_type": "code",
   "execution_count": 24,
   "metadata": {},
   "outputs": [
    {
     "data": {
      "text/plain": [
       "'tendulkar took cricket age eleven made test match debut 15 november 1989 pakistan karachi age sixteen went represent mumbai domestically india internationally 24 years9 2002 halfway career wisden ranked secondgreatest test batsman time behind bradman secondgreatest odi batsman time behind viv richards10 year tendulkar part team one jointwinners 2002 icc champions trophy later career tendulkar part indian team 2011 cricket world cup first win six world cup appearances india11 previously named player tournament 2003 world cup'"
      ]
     },
     "execution_count": 24,
     "metadata": {},
     "output_type": "execute_result"
    }
   ],
   "source": [
    "clean = \" \".join(clean_words)\n",
    "clean"
   ]
  },
  {
   "cell_type": "code",
   "execution_count": 25,
   "metadata": {},
   "outputs": [],
   "source": [
    "from nltk import FreqDist"
   ]
  },
  {
   "cell_type": "code",
   "execution_count": 26,
   "metadata": {},
   "outputs": [],
   "source": [
    "freq = FreqDist(word_tokenize(text))"
   ]
  },
  {
   "cell_type": "code",
   "execution_count": 27,
   "metadata": {},
   "outputs": [
    {
     "data": {
      "image/png": "[encoded data removed]",
      "text/plain": [
       "<Figure size 640x480 with 1 Axes>"
      ]
     },
     "metadata": {},
     "output_type": "display_data"
    },
    {
     "data": {
      "text/plain": [
       "<Axes: xlabel='Samples', ylabel='Counts'>"
      ]
     },
     "execution_count": 27,
     "metadata": {},
     "output_type": "execute_result"
    }
   ],
   "source": [
    "freq.plot(20,cumulative=False)"
   ]
  },
  {
   "cell_type": "code",
   "execution_count": 31,
   "metadata": {},
   "outputs": [
    {
     "data": {
      "image/png": "[encoded data removed]",
      "text/plain": [
       "<Figure size 640x480 with 1 Axes>"
      ]
     },
     "metadata": {},
     "output_type": "display_data"
    },
    {
     "data": {
      "text/plain": [
       "<Axes: xlabel='Samples', ylabel='Counts'>"
      ]
     },
     "execution_count": 31,
     "metadata": {},
     "output_type": "execute_result"
    }
   ],
   "source": [
    "freq = FreqDist(clean_words)\n",
    "freq.plot(20,cumulative=False)"
   ]
  },
  {
   "cell_type": "code",
   "execution_count": 37,
   "metadata": {},
   "outputs": [],
   "source": [
    "def clean_text(text):\n",
    "    token1 = word_tokenize(text)\n",
    "    token2 = [word for word in token1\n",
    "              if word not in string.punctuation]\n",
    "    token3 = [word.lower() for word in token2 \n",
    "              if word.lower() not in set(stopword)]\n",
    "    freq = FreqDist(token3)\n",
    "    freq.plot(20)\n",
    "    return token3"
   ]
  },
  {
   "cell_type": "code",
   "execution_count": 38,
   "metadata": {},
   "outputs": [
    {
     "data": {
      "image/png": "[encoded data removed]",
      "text/plain": [
       "<Figure size 640x480 with 1 Axes>"
      ]
     },
     "metadata": {},
     "output_type": "display_data"
    },
    {
     "data": {
      "text/plain": [
       "['tendulkar',\n",
       " 'took',\n",
       " 'cricket',\n",
       " 'age',\n",
       " 'eleven',\n",
       " 'made',\n",
       " 'test',\n",
       " 'match',\n",
       " 'debut',\n",
       " '15',\n",
       " 'november',\n",
       " '1989',\n",
       " 'pakistan',\n",
       " 'karachi',\n",
       " 'age',\n",
       " 'sixteen',\n",
       " 'went',\n",
       " 'represent',\n",
       " 'mumbai',\n",
       " 'domestically',\n",
       " 'india',\n",
       " 'internationally',\n",
       " '24',\n",
       " 'years',\n",
       " '9',\n",
       " '2002',\n",
       " 'halfway',\n",
       " 'career',\n",
       " 'wisden',\n",
       " 'ranked',\n",
       " 'second-greatest',\n",
       " 'test',\n",
       " 'batsman',\n",
       " 'time',\n",
       " 'behind',\n",
       " 'bradman',\n",
       " 'second-greatest',\n",
       " 'odi',\n",
       " 'batsman',\n",
       " 'time',\n",
       " 'behind',\n",
       " 'viv',\n",
       " 'richards',\n",
       " '10',\n",
       " 'year',\n",
       " 'tendulkar',\n",
       " 'part',\n",
       " 'team',\n",
       " 'one',\n",
       " 'joint-winners',\n",
       " '2002',\n",
       " 'icc',\n",
       " 'champions',\n",
       " 'trophy',\n",
       " 'later',\n",
       " 'career',\n",
       " 'tendulkar',\n",
       " 'part',\n",
       " 'indian',\n",
       " 'team',\n",
       " '2011',\n",
       " 'cricket',\n",
       " 'world',\n",
       " 'cup',\n",
       " 'first',\n",
       " 'win',\n",
       " 'six',\n",
       " 'world',\n",
       " 'cup',\n",
       " 'appearances',\n",
       " 'india',\n",
       " '11',\n",
       " 'previously',\n",
       " 'named',\n",
       " '``',\n",
       " 'player',\n",
       " 'tournament',\n",
       " \"''\",\n",
       " '2003',\n",
       " 'world',\n",
       " 'cup']"
      ]
     },
     "execution_count": 38,
     "metadata": {},
     "output_type": "execute_result"
    }
   ],
   "source": [
    "clean_text(text)"
   ]
  },
  {
   "cell_type": "code",
   "execution_count": 40,
   "metadata": {},
   "outputs": [],
   "source": [
    "bear = \"\"\" Grylls was born in Donaghadee, Northern Ireland on 7 June 1974.[4][5] His family has a strong cricketing background, his grandfather Neville Ford and great-great-grandfather William Augustus Ford having both been first-class cricketers. He lived in Donaghadee until the age of four, when his family moved to Bembridge on the Isle of Wight.[6][7]\n",
    "He is the son of Conservative politician Sir Michael Grylls and his wife Sarah \"Sally\" (née Ford). Her mother Patrica Smiles, Patricia Ford, Lady Fisher, was briefly an MP, succeeding her father; later she married an MP.[8] Grylls has one sibling, an elder sister, Lara Fawcett, who gave him the nickname 'Bear' when he was a week old.[9]\n",
    "From an early age, he learned to climb and sail with his father, who was a member of the Royal Yacht Squadron. As a teenager, he learned to skydive and earned a second dan black belt in Shotokan karate.[10] He speaks English, Spanish, and French.[11] He is an Anglican,[12] and has described his Christian faith as the \"backbone\" in his life:[13] \"You can't keep God out. He's all around us, if we're just still enough to listen.\"\"\""
   ]
  },
  {
   "cell_type": "code",
   "execution_count": 41,
   "metadata": {},
   "outputs": [
    {
     "data": {
      "image/png": "[encoded data removed]",
      "text/plain": [
       "<Figure size 640x480 with 1 Axes>"
      ]
     },
     "metadata": {},
     "output_type": "display_data"
    },
    {
     "data": {
      "text/plain": [
       "['grylls',\n",
       " 'born',\n",
       " 'donaghadee',\n",
       " 'northern',\n",
       " 'ireland',\n",
       " '7',\n",
       " 'june',\n",
       " '1974',\n",
       " '4',\n",
       " '5',\n",
       " 'family',\n",
       " 'strong',\n",
       " 'cricketing',\n",
       " 'background',\n",
       " 'grandfather',\n",
       " 'neville',\n",
       " 'ford',\n",
       " 'great-great-grandfather',\n",
       " 'william',\n",
       " 'augustus',\n",
       " 'ford',\n",
       " 'first-class',\n",
       " 'cricketers',\n",
       " 'lived',\n",
       " 'donaghadee',\n",
       " 'age',\n",
       " 'four',\n",
       " 'family',\n",
       " 'moved',\n",
       " 'bembridge',\n",
       " 'isle',\n",
       " 'wight',\n",
       " '6',\n",
       " '7',\n",
       " 'son',\n",
       " 'conservative',\n",
       " 'politician',\n",
       " 'sir',\n",
       " 'michael',\n",
       " 'grylls',\n",
       " 'wife',\n",
       " 'sarah',\n",
       " '``',\n",
       " 'sally',\n",
       " \"''\",\n",
       " 'née',\n",
       " 'ford',\n",
       " 'mother',\n",
       " 'patrica',\n",
       " 'smiles',\n",
       " 'patricia',\n",
       " 'ford',\n",
       " 'lady',\n",
       " 'fisher',\n",
       " 'briefly',\n",
       " 'mp',\n",
       " 'succeeding',\n",
       " 'father',\n",
       " 'later',\n",
       " 'married',\n",
       " 'mp',\n",
       " '8',\n",
       " 'grylls',\n",
       " 'one',\n",
       " 'sibling',\n",
       " 'elder',\n",
       " 'sister',\n",
       " 'lara',\n",
       " 'fawcett',\n",
       " 'gave',\n",
       " 'nickname',\n",
       " \"'bear\",\n",
       " 'week',\n",
       " 'old',\n",
       " '9',\n",
       " 'early',\n",
       " 'age',\n",
       " 'learned',\n",
       " 'climb',\n",
       " 'sail',\n",
       " 'father',\n",
       " 'member',\n",
       " 'royal',\n",
       " 'yacht',\n",
       " 'squadron',\n",
       " 'teenager',\n",
       " 'learned',\n",
       " 'skydive',\n",
       " 'earned',\n",
       " 'second',\n",
       " 'dan',\n",
       " 'black',\n",
       " 'belt',\n",
       " 'shotokan',\n",
       " 'karate',\n",
       " '10',\n",
       " 'speaks',\n",
       " 'english',\n",
       " 'spanish',\n",
       " 'french',\n",
       " '11',\n",
       " 'anglican',\n",
       " '12',\n",
       " 'described',\n",
       " 'christian',\n",
       " 'faith',\n",
       " '``',\n",
       " 'backbone',\n",
       " \"''\",\n",
       " 'life',\n",
       " '13',\n",
       " '``',\n",
       " 'ca',\n",
       " \"n't\",\n",
       " 'keep',\n",
       " 'god',\n",
       " \"'s\",\n",
       " 'around',\n",
       " 'us',\n",
       " \"'re\",\n",
       " 'still',\n",
       " 'enough',\n",
       " 'listen']"
      ]
     },
     "execution_count": 41,
     "metadata": {},
     "output_type": "execute_result"
    }
   ],
   "source": [
    "clean_text(bear)"
   ]
  },
  {
   "cell_type": "code",
   "execution_count": 42,
   "metadata": {},
   "outputs": [],
   "source": [
    "planet = ''''\n",
    "Jupiter is the fifth planet from the Sun and the largest in the Solar System. It is a gas giant with a mass more than two and a half times that of all the other planets in the Solar System combined, and slightly less than one one-thousandth the mass of the Sun. Jupiter orbits the Sun at a distance of 5.20 AU (778.5 Gm) with an orbital period of 11.86 years. Jupiter is the third brightest natural object in the Earth's night sky after the Moon and Venus, and it has been observed since prehistoric times. It was named after Jupiter, the chief deity of ancient Roman religion.\n",
    "Jupiter was the first planet to form, and its inward migration during the primordial Solar System impacted much of the formation history of the other planets. Jupiter is primarily composed of hydrogen (90% by volume), followed by helium, which makes up a quarter of its mass and a tenth of its volume. The ongoing contraction of Jupiter's interior generates more heat than the planet receives from the Sun. Its internal structure is believed to comprise an outer mantle of liquid metallic hydrogen, and a diffuse inner core of denser material. Because of its rapid rotation rate of 1 rotation per 10 hours, Jupiter's shape is an oblate spheroid: it has a slight but noticeable bulge around the equator. The outer atmosphere is divided into a series of latitudinal bands, with turbulence and storms along their interacting boundaries. The most obvious result of this is the Great Red Spot, a giant storm which has been observed since 1831 and possibly earlier.\n",
    "Jupiter is surrounded by a faint planetary ring system and has a powerful magnetosphere, the second largest contiguous structure in the Solar System (after the heliosphere). Jupiter forms a system of 95 known moons and probably many more, including the four large moons discovered by Galileo Galilei in 1610: Io, Europa, Ganymede, and Callisto. Ganymede, the largest of the four, is larger than the planet Mercury. Callisto is the second largest; Io and Europa are approximately the size of Earth's Moon.\n",
    "'''"
   ]
  },
  {
   "cell_type": "code",
   "execution_count": 43,
   "metadata": {},
   "outputs": [
    {
     "data": {
      "image/png": "[encoded data removed]",
      "text/plain": [
       "<Figure size 640x480 with 1 Axes>"
      ]
     },
     "metadata": {},
     "output_type": "display_data"
    },
    {
     "data": {
      "text/plain": [
       "['jupiter',\n",
       " 'fifth',\n",
       " 'planet',\n",
       " 'sun',\n",
       " 'largest',\n",
       " 'solar',\n",
       " 'system',\n",
       " 'gas',\n",
       " 'giant',\n",
       " 'mass',\n",
       " 'two',\n",
       " 'half',\n",
       " 'times',\n",
       " 'planets',\n",
       " 'solar',\n",
       " 'system',\n",
       " 'combined',\n",
       " 'slightly',\n",
       " 'less',\n",
       " 'one',\n",
       " 'one-thousandth',\n",
       " 'mass',\n",
       " 'sun',\n",
       " 'jupiter',\n",
       " 'orbits',\n",
       " 'sun',\n",
       " 'distance',\n",
       " '5.20',\n",
       " 'au',\n",
       " '778.5',\n",
       " 'gm',\n",
       " 'orbital',\n",
       " 'period',\n",
       " '11.86',\n",
       " 'years',\n",
       " 'jupiter',\n",
       " 'third',\n",
       " 'brightest',\n",
       " 'natural',\n",
       " 'object',\n",
       " 'earth',\n",
       " \"'s\",\n",
       " 'night',\n",
       " 'sky',\n",
       " 'moon',\n",
       " 'venus',\n",
       " 'observed',\n",
       " 'since',\n",
       " 'prehistoric',\n",
       " 'times',\n",
       " 'named',\n",
       " 'jupiter',\n",
       " 'chief',\n",
       " 'deity',\n",
       " 'ancient',\n",
       " 'roman',\n",
       " 'religion',\n",
       " 'jupiter',\n",
       " 'first',\n",
       " 'planet',\n",
       " 'form',\n",
       " 'inward',\n",
       " 'migration',\n",
       " 'primordial',\n",
       " 'solar',\n",
       " 'system',\n",
       " 'impacted',\n",
       " 'much',\n",
       " 'formation',\n",
       " 'history',\n",
       " 'planets',\n",
       " 'jupiter',\n",
       " 'primarily',\n",
       " 'composed',\n",
       " 'hydrogen',\n",
       " '90',\n",
       " 'volume',\n",
       " 'followed',\n",
       " 'helium',\n",
       " 'makes',\n",
       " 'quarter',\n",
       " 'mass',\n",
       " 'tenth',\n",
       " 'volume',\n",
       " 'ongoing',\n",
       " 'contraction',\n",
       " 'jupiter',\n",
       " \"'s\",\n",
       " 'interior',\n",
       " 'generates',\n",
       " 'heat',\n",
       " 'planet',\n",
       " 'receives',\n",
       " 'sun',\n",
       " 'internal',\n",
       " 'structure',\n",
       " 'believed',\n",
       " 'comprise',\n",
       " 'outer',\n",
       " 'mantle',\n",
       " 'liquid',\n",
       " 'metallic',\n",
       " 'hydrogen',\n",
       " 'diffuse',\n",
       " 'inner',\n",
       " 'core',\n",
       " 'denser',\n",
       " 'material',\n",
       " 'rapid',\n",
       " 'rotation',\n",
       " 'rate',\n",
       " '1',\n",
       " 'rotation',\n",
       " 'per',\n",
       " '10',\n",
       " 'hours',\n",
       " 'jupiter',\n",
       " \"'s\",\n",
       " 'shape',\n",
       " 'oblate',\n",
       " 'spheroid',\n",
       " 'slight',\n",
       " 'noticeable',\n",
       " 'bulge',\n",
       " 'around',\n",
       " 'equator',\n",
       " 'outer',\n",
       " 'atmosphere',\n",
       " 'divided',\n",
       " 'series',\n",
       " 'latitudinal',\n",
       " 'bands',\n",
       " 'turbulence',\n",
       " 'storms',\n",
       " 'along',\n",
       " 'interacting',\n",
       " 'boundaries',\n",
       " 'obvious',\n",
       " 'result',\n",
       " 'great',\n",
       " 'red',\n",
       " 'spot',\n",
       " 'giant',\n",
       " 'storm',\n",
       " 'observed',\n",
       " 'since',\n",
       " '1831',\n",
       " 'possibly',\n",
       " 'earlier',\n",
       " 'jupiter',\n",
       " 'surrounded',\n",
       " 'faint',\n",
       " 'planetary',\n",
       " 'ring',\n",
       " 'system',\n",
       " 'powerful',\n",
       " 'magnetosphere',\n",
       " 'second',\n",
       " 'largest',\n",
       " 'contiguous',\n",
       " 'structure',\n",
       " 'solar',\n",
       " 'system',\n",
       " 'heliosphere',\n",
       " 'jupiter',\n",
       " 'forms',\n",
       " 'system',\n",
       " '95',\n",
       " 'known',\n",
       " 'moons',\n",
       " 'probably',\n",
       " 'many',\n",
       " 'including',\n",
       " 'four',\n",
       " 'large',\n",
       " 'moons',\n",
       " 'discovered',\n",
       " 'galileo',\n",
       " 'galilei',\n",
       " '1610',\n",
       " 'io',\n",
       " 'europa',\n",
       " 'ganymede',\n",
       " 'callisto',\n",
       " 'ganymede',\n",
       " 'largest',\n",
       " 'four',\n",
       " 'larger',\n",
       " 'planet',\n",
       " 'mercury',\n",
       " 'callisto',\n",
       " 'second',\n",
       " 'largest',\n",
       " 'io',\n",
       " 'europa',\n",
       " 'approximately',\n",
       " 'size',\n",
       " 'earth',\n",
       " \"'s\",\n",
       " 'moon']"
      ]
     },
     "execution_count": 43,
     "metadata": {},
     "output_type": "execute_result"
    }
   ],
   "source": [
    "clean_text(planet)"
   ]
  },
  {
   "cell_type": "code",
   "execution_count": 44,
   "metadata": {},
   "outputs": [
    {
     "data": {
      "text/plain": [
       "['au',\n",
       " 'aux',\n",
       " 'avec',\n",
       " 'ce',\n",
       " 'ces',\n",
       " 'dans',\n",
       " 'de',\n",
       " 'des',\n",
       " 'du',\n",
       " 'elle',\n",
       " 'en',\n",
       " 'et',\n",
       " 'eux',\n",
       " 'il',\n",
       " 'ils',\n",
       " 'je',\n",
       " 'la',\n",
       " 'le',\n",
       " 'les',\n",
       " 'leur',\n",
       " 'lui',\n",
       " 'ma',\n",
       " 'mais',\n",
       " 'me',\n",
       " 'même',\n",
       " 'mes',\n",
       " 'moi',\n",
       " 'mon',\n",
       " 'ne',\n",
       " 'nos',\n",
       " 'notre',\n",
       " 'nous',\n",
       " 'on',\n",
       " 'ou',\n",
       " 'par',\n",
       " 'pas',\n",
       " 'pour',\n",
       " 'qu',\n",
       " 'que',\n",
       " 'qui',\n",
       " 'sa',\n",
       " 'se',\n",
       " 'ses',\n",
       " 'son',\n",
       " 'sur',\n",
       " 'ta',\n",
       " 'te',\n",
       " 'tes',\n",
       " 'toi',\n",
       " 'ton',\n",
       " 'tu',\n",
       " 'un',\n",
       " 'une',\n",
       " 'vos',\n",
       " 'votre',\n",
       " 'vous',\n",
       " 'c',\n",
       " 'd',\n",
       " 'j',\n",
       " 'l',\n",
       " 'à',\n",
       " 'm',\n",
       " 'n',\n",
       " 's',\n",
       " 't',\n",
       " 'y',\n",
       " 'été',\n",
       " 'étée',\n",
       " 'étées',\n",
       " 'étés',\n",
       " 'étant',\n",
       " 'étante',\n",
       " 'étants',\n",
       " 'étantes',\n",
       " 'suis',\n",
       " 'es',\n",
       " 'est',\n",
       " 'sommes',\n",
       " 'êtes',\n",
       " 'sont',\n",
       " 'serai',\n",
       " 'seras',\n",
       " 'sera',\n",
       " 'serons',\n",
       " 'serez',\n",
       " 'seront',\n",
       " 'serais',\n",
       " 'serait',\n",
       " 'serions',\n",
       " 'seriez',\n",
       " 'seraient',\n",
       " 'étais',\n",
       " 'était',\n",
       " 'étions',\n",
       " 'étiez',\n",
       " 'étaient',\n",
       " 'fus',\n",
       " 'fut',\n",
       " 'fûmes',\n",
       " 'fûtes',\n",
       " 'furent',\n",
       " 'sois',\n",
       " 'soit',\n",
       " 'soyons',\n",
       " 'soyez',\n",
       " 'soient',\n",
       " 'fusse',\n",
       " 'fusses',\n",
       " 'fût',\n",
       " 'fussions',\n",
       " 'fussiez',\n",
       " 'fussent',\n",
       " 'ayant',\n",
       " 'ayante',\n",
       " 'ayantes',\n",
       " 'ayants',\n",
       " 'eu',\n",
       " 'eue',\n",
       " 'eues',\n",
       " 'eus',\n",
       " 'ai',\n",
       " 'as',\n",
       " 'avons',\n",
       " 'avez',\n",
       " 'ont',\n",
       " 'aurai',\n",
       " 'auras',\n",
       " 'aura',\n",
       " 'aurons',\n",
       " 'aurez',\n",
       " 'auront',\n",
       " 'aurais',\n",
       " 'aurait',\n",
       " 'aurions',\n",
       " 'auriez',\n",
       " 'auraient',\n",
       " 'avais',\n",
       " 'avait',\n",
       " 'avions',\n",
       " 'aviez',\n",
       " 'avaient',\n",
       " 'eut',\n",
       " 'eûmes',\n",
       " 'eûtes',\n",
       " 'eurent',\n",
       " 'aie',\n",
       " 'aies',\n",
       " 'ait',\n",
       " 'ayons',\n",
       " 'ayez',\n",
       " 'aient',\n",
       " 'eusse',\n",
       " 'eusses',\n",
       " 'eût',\n",
       " 'eussions',\n",
       " 'eussiez',\n",
       " 'eussent']"
      ]
     },
     "execution_count": 44,
     "metadata": {},
     "output_type": "execute_result"
    }
   ],
   "source": [
    "stopwords.words(\"french\")"
   ]
  },
  {
   "cell_type": "markdown",
   "metadata": {},
   "source": [
    "### Porter Stemmer"
   ]
  },
  {
   "cell_type": "code",
   "execution_count": 45,
   "metadata": {},
   "outputs": [],
   "source": [
    "word1 = 'cat','catty','catlike','cats'\n",
    "word2 = 'playing','plays','played','players'\n",
    "word3 = 'go','went','gone','going','goes'\n",
    "word4 = 'goods','better','best','fasting','reachable'\n",
    "word5 = 'program','programmed','programming','programatic'"
   ]
  },
  {
   "cell_type": "code",
   "execution_count": 46,
   "metadata": {},
   "outputs": [],
   "source": [
    "from nltk.stem import PorterStemmer"
   ]
  },
  {
   "cell_type": "code",
   "execution_count": 47,
   "metadata": {},
   "outputs": [],
   "source": [
    "ps = PorterStemmer()"
   ]
  },
  {
   "cell_type": "code",
   "execution_count": 48,
   "metadata": {},
   "outputs": [
    {
     "data": {
      "text/plain": [
       "'play'"
      ]
     },
     "execution_count": 48,
     "metadata": {},
     "output_type": "execute_result"
    }
   ],
   "source": [
    "ps.stem(word2[0])"
   ]
  },
  {
   "cell_type": "code",
   "execution_count": 49,
   "metadata": {},
   "outputs": [
    {
     "name": "stdout",
     "output_type": "stream",
     "text": [
      "cat\n",
      "catti\n",
      "catlik\n",
      "cat\n"
     ]
    }
   ],
   "source": [
    "for word in word1:\n",
    "    print(ps.stem(word))"
   ]
  },
  {
   "cell_type": "code",
   "execution_count": 50,
   "metadata": {},
   "outputs": [
    {
     "name": "stdout",
     "output_type": "stream",
     "text": [
      "play\n",
      "play\n",
      "play\n",
      "player\n"
     ]
    }
   ],
   "source": [
    "for word in word2:\n",
    "    print(ps.stem(word))"
   ]
  },
  {
   "cell_type": "code",
   "execution_count": 51,
   "metadata": {},
   "outputs": [
    {
     "name": "stdout",
     "output_type": "stream",
     "text": [
      "go\n",
      "went\n",
      "gone\n",
      "go\n",
      "goe\n"
     ]
    }
   ],
   "source": [
    "for word in word3:\n",
    "    print(ps.stem(word))"
   ]
  },
  {
   "cell_type": "code",
   "execution_count": 52,
   "metadata": {},
   "outputs": [
    {
     "name": "stdout",
     "output_type": "stream",
     "text": [
      "good\n",
      "better\n",
      "best\n",
      "fast\n",
      "reachabl\n"
     ]
    }
   ],
   "source": [
    "for word in word4:\n",
    "    print(ps.stem(word))"
   ]
  },
  {
   "cell_type": "code",
   "execution_count": 53,
   "metadata": {},
   "outputs": [
    {
     "name": "stdout",
     "output_type": "stream",
     "text": [
      "program\n",
      "program\n",
      "program\n",
      "programat\n"
     ]
    }
   ],
   "source": [
    "for word in word5:\n",
    "    print(ps.stem(word))"
   ]
  },
  {
   "cell_type": "markdown",
   "metadata": {},
   "source": [
    "## Lancaster Stemmer"
   ]
  },
  {
   "cell_type": "code",
   "execution_count": 57,
   "metadata": {},
   "outputs": [],
   "source": [
    "from nltk.stem import LancasterStemmer"
   ]
  },
  {
   "cell_type": "code",
   "execution_count": 68,
   "metadata": {},
   "outputs": [],
   "source": [
    "ls = LancasterStemmer() "
   ]
  },
  {
   "cell_type": "code",
   "execution_count": 59,
   "metadata": {},
   "outputs": [
    {
     "name": "stdout",
     "output_type": "stream",
     "text": [
      "cat\n",
      "catty\n",
      "catlik\n",
      "cat\n"
     ]
    }
   ],
   "source": [
    "for word in word1:\n",
    "    print(ls.stem(word))"
   ]
  },
  {
   "cell_type": "code",
   "execution_count": 64,
   "metadata": {},
   "outputs": [
    {
     "name": "stdout",
     "output_type": "stream",
     "text": [
      "play\n",
      "play\n",
      "play\n",
      "play\n"
     ]
    }
   ],
   "source": [
    "for word in word2:\n",
    "    print(ls.stem(word))"
   ]
  },
  {
   "cell_type": "code",
   "execution_count": 67,
   "metadata": {},
   "outputs": [
    {
     "name": "stdout",
     "output_type": "stream",
     "text": [
      "go\n",
      "went\n",
      "gon\n",
      "going\n",
      "goe\n"
     ]
    }
   ],
   "source": [
    "for word in word3:\n",
    "    print(ls.stem(word))"
   ]
  },
  {
   "cell_type": "code",
   "execution_count": 65,
   "metadata": {},
   "outputs": [
    {
     "name": "stdout",
     "output_type": "stream",
     "text": [
      "good\n",
      "bet\n",
      "best\n",
      "fast\n",
      "reach\n"
     ]
    }
   ],
   "source": [
    "for word in word4:\n",
    "    print(ls.stem(word))"
   ]
  },
  {
   "cell_type": "code",
   "execution_count": 66,
   "metadata": {},
   "outputs": [
    {
     "name": "stdout",
     "output_type": "stream",
     "text": [
      "program\n",
      "program\n",
      "program\n",
      "program\n"
     ]
    }
   ],
   "source": [
    "for word in word5:\n",
    "    print(ls.stem(word))"
   ]
  },
  {
   "cell_type": "markdown",
   "metadata": {},
   "source": [
    "## Lemmatizer"
   ]
  },
  {
   "cell_type": "code",
   "execution_count": 76,
   "metadata": {},
   "outputs": [],
   "source": [
    "from nltk.stem import WordNetLemmatizer\n",
    "\n",
    "lm = WordNetLemmatizer()"
   ]
  },
  {
   "cell_type": "code",
   "execution_count": 80,
   "metadata": {},
   "outputs": [
    {
     "data": {
      "text/plain": [
       "'playing'"
      ]
     },
     "execution_count": 80,
     "metadata": {},
     "output_type": "execute_result"
    }
   ],
   "source": [
    "## v -> verb ; n -> noun ; a -> adjective ; r -> adverb \n",
    "\n",
    "lm.lemmatize(word2[0], pos='n')"
   ]
  },
  {
   "cell_type": "code",
   "execution_count": 81,
   "metadata": {},
   "outputs": [
    {
     "data": {
      "text/plain": [
       "'cat'"
      ]
     },
     "execution_count": 81,
     "metadata": {},
     "output_type": "execute_result"
    }
   ],
   "source": [
    "lm.lemmatize(word1[0], pos='v')"
   ]
  },
  {
   "cell_type": "code",
   "execution_count": 82,
   "metadata": {},
   "outputs": [
    {
     "data": {
      "text/plain": [
       "'go'"
      ]
     },
     "execution_count": 82,
     "metadata": {},
     "output_type": "execute_result"
    }
   ],
   "source": [
    "lm.lemmatize(word3[0], pos='r')"
   ]
  },
  {
   "cell_type": "code",
   "execution_count": 83,
   "metadata": {},
   "outputs": [
    {
     "data": {
      "text/plain": [
       "'goods'"
      ]
     },
     "execution_count": 83,
     "metadata": {},
     "output_type": "execute_result"
    }
   ],
   "source": [
    "lm.lemmatize(word4[0], pos='v')"
   ]
  },
  {
   "cell_type": "code",
   "execution_count": 84,
   "metadata": {},
   "outputs": [
    {
     "data": {
      "text/plain": [
       "'program'"
      ]
     },
     "execution_count": 84,
     "metadata": {},
     "output_type": "execute_result"
    }
   ],
   "source": [
    "lm.lemmatize(word5[0], pos='a')"
   ]
  }
 ],
 "metadata": {
  "kernelspec": {
   "display_name": "base",
   "language": "python",
   "name": "python3"
  },
  "language_info": {
   "codemirror_mode": {
    "name": "ipython",
    "version": 3
   },
   "file_extension": ".py",
   "mimetype": "text/x-python",
   "name": "python",
   "nbconvert_exporter": "python",
   "pygments_lexer": "ipython3",
   "version": "3.11.4"
  },
  "orig_nbformat": 4
 },
 "nbformat": 4,
 "nbformat_minor": 2
}
