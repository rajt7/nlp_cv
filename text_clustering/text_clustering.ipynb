{
 "cells": [
  {
   "cell_type": "code",
   "execution_count": 11,
   "metadata": {},
   "outputs": [],
   "source": [
    "from sklearn.datasets import fetch_20newsgroups\n",
    "\n",
    "data = fetch_20newsgroups()"
   ]
  },
  {
   "cell_type": "code",
   "execution_count": 3,
   "metadata": {},
   "outputs": [
    {
     "data": {
      "text/plain": [
       "['alt.atheism',\n",
       " 'comp.graphics',\n",
       " 'comp.os.ms-windows.misc',\n",
       " 'comp.sys.ibm.pc.hardware',\n",
       " 'comp.sys.mac.hardware',\n",
       " 'comp.windows.x',\n",
       " 'misc.forsale',\n",
       " 'rec.autos',\n",
       " 'rec.motorcycles',\n",
       " 'rec.sport.baseball',\n",
       " 'rec.sport.hockey',\n",
       " 'sci.crypt',\n",
       " 'sci.electronics',\n",
       " 'sci.med',\n",
       " 'sci.space',\n",
       " 'soc.religion.christian',\n",
       " 'talk.politics.guns',\n",
       " 'talk.politics.mideast',\n",
       " 'talk.politics.misc',\n",
       " 'talk.religion.misc']"
      ]
     },
     "execution_count": 3,
     "metadata": {},
     "output_type": "execute_result"
    }
   ],
   "source": [
    "data['target_names']"
   ]
  },
  {
   "cell_type": "code",
   "execution_count": 12,
   "metadata": {},
   "outputs": [],
   "source": [
    "categories = ['sci.space', 'talk.politics.guns', 'comp.graphics']\n",
    "\n",
    "train = fetch_20newsgroups(subset='train', categories=categories, shuffle=True, random_state=42)"
   ]
  },
  {
   "cell_type": "code",
   "execution_count": 20,
   "metadata": {},
   "outputs": [
    {
     "data": {
      "text/html": [
       "<div>\n",
       "<style scoped>\n",
       "    .dataframe tbody tr th:only-of-type {\n",
       "        vertical-align: middle;\n",
       "    }\n",
       "\n",
       "    .dataframe tbody tr th {\n",
       "        vertical-align: top;\n",
       "    }\n",
       "\n",
       "    .dataframe thead th {\n",
       "        text-align: right;\n",
       "    }\n",
       "</style>\n",
       "<table border=\"1\" class=\"dataframe\">\n",
       "  <thead>\n",
       "    <tr style=\"text-align: right;\">\n",
       "      <th></th>\n",
       "      <th>text</th>\n",
       "    </tr>\n",
       "  </thead>\n",
       "  <tbody>\n",
       "    <tr>\n",
       "      <th>0</th>\n",
       "      <td>From: jgarland@kean.ucs.mun.ca\\nSubject: Re: C...</td>\n",
       "    </tr>\n",
       "    <tr>\n",
       "      <th>1</th>\n",
       "      <td>From: rgc3679@bcstec.ca.boeing.com (Robert G. ...</td>\n",
       "    </tr>\n",
       "    <tr>\n",
       "      <th>2</th>\n",
       "      <td>From: xrcjd@mudpuppy.gsfc.nasa.gov (Charles J....</td>\n",
       "    </tr>\n",
       "    <tr>\n",
       "      <th>3</th>\n",
       "      <td>From: viking@iastate.edu (Dan Sorenson)\\nSubje...</td>\n",
       "    </tr>\n",
       "    <tr>\n",
       "      <th>4</th>\n",
       "      <td>From: mbc@po.CWRU.Edu (Michael B. Comet)\\nSubj...</td>\n",
       "    </tr>\n",
       "  </tbody>\n",
       "</table>\n",
       "</div>"
      ],
      "text/plain": [
       "                                                text\n",
       "0  From: jgarland@kean.ucs.mun.ca\\nSubject: Re: C...\n",
       "1  From: rgc3679@bcstec.ca.boeing.com (Robert G. ...\n",
       "2  From: xrcjd@mudpuppy.gsfc.nasa.gov (Charles J....\n",
       "3  From: viking@iastate.edu (Dan Sorenson)\\nSubje...\n",
       "4  From: mbc@po.CWRU.Edu (Michael B. Comet)\\nSubj..."
      ]
     },
     "execution_count": 20,
     "metadata": {},
     "output_type": "execute_result"
    }
   ],
   "source": [
    "import pandas as pd\n",
    "df = pd.DataFrame(train['data'], columns=['text'])\n",
    "df.head()"
   ]
  },
  {
   "cell_type": "code",
   "execution_count": 13,
   "metadata": {},
   "outputs": [
    {
     "name": "stderr",
     "output_type": "stream",
     "text": [
      "/home/dai/anaconda3/lib/python3.11/site-packages/sklearn/feature_extraction/text.py:528: UserWarning: The parameter 'token_pattern' will not be used since 'tokenizer' is not None'\n",
      "  warnings.warn(\n"
     ]
    },
    {
     "data": {
      "text/plain": [
       "(1723, 33453)"
      ]
     },
     "execution_count": 13,
     "metadata": {},
     "output_type": "execute_result"
    }
   ],
   "source": [
    "# TF-IDF Feature Generation\n",
    "from sklearn.feature_extraction.text import TfidfVectorizer\n",
    "from nltk.tokenize import RegexpTokenizer\n",
    "\n",
    "# Initialize regex tokenizer\n",
    "tokenizer = RegexpTokenizer(r'\\w+')\n",
    "\n",
    "# # Vectorize document using TF-IDF\n",
    "tf_idf_vect = TfidfVectorizer(lowercase=True,\n",
    "                        stop_words='english',\n",
    "                        ngram_range = (1,1),\n",
    "                        tokenizer = tokenizer.tokenize)\n",
    "\n",
    "# Fit and Transfrom Text Data\n",
    "X_train_counts = tf_idf_vect.fit_transform(train.data)\n",
    "\n",
    "# Check Shape of Count Vector\n",
    "X_train_counts.shape"
   ]
  },
  {
   "cell_type": "markdown",
   "metadata": {},
   "source": [
    "### Build the Model"
   ]
  },
  {
   "cell_type": "code",
   "execution_count": 16,
   "metadata": {},
   "outputs": [],
   "source": [
    "from sklearn.cluster import KMeans\n",
    "from sklearn.metrics import silhouette_score\n",
    "import matplotlib.pyplot as plt"
   ]
  },
  {
   "cell_type": "code",
   "execution_count": 17,
   "metadata": {},
   "outputs": [
    {
     "name": "stderr",
     "output_type": "stream",
     "text": [
      "/home/dai/anaconda3/lib/python3.11/site-packages/sklearn/cluster/_kmeans.py:870: FutureWarning: The default value of `n_init` will change from 10 to 'auto' in 1.4. Set the value of `n_init` explicitly to suppress the warning\n",
      "  warnings.warn(\n",
      "/home/dai/anaconda3/lib/python3.11/site-packages/sklearn/cluster/_kmeans.py:870: FutureWarning: The default value of `n_init` will change from 10 to 'auto' in 1.4. Set the value of `n_init` explicitly to suppress the warning\n",
      "  warnings.warn(\n",
      "/home/dai/anaconda3/lib/python3.11/site-packages/sklearn/cluster/_kmeans.py:870: FutureWarning: The default value of `n_init` will change from 10 to 'auto' in 1.4. Set the value of `n_init` explicitly to suppress the warning\n",
      "  warnings.warn(\n",
      "/home/dai/anaconda3/lib/python3.11/site-packages/sklearn/cluster/_kmeans.py:870: FutureWarning: The default value of `n_init` will change from 10 to 'auto' in 1.4. Set the value of `n_init` explicitly to suppress the warning\n",
      "  warnings.warn(\n"
     ]
    }
   ],
   "source": [
    "# K-means clustering\n",
    "k_values = range(2, 6)  # Trying different cluster numbers\n",
    "silhouette_scores = []\n",
    "\n",
    "for k in k_values:\n",
    "    kmeans = KMeans(n_clusters=k, random_state=42)\n",
    "    kmeans.fit(X_train_counts)\n",
    "    cluster_labels = kmeans.labels_\n",
    "    \n",
    "    # Calculating silhouette score to evaluate the clusters\n",
    "    silhouette_avg = silhouette_score(X_train_counts, cluster_labels)\n",
    "    silhouette_scores.append(silhouette_avg)"
   ]
  },
  {
   "cell_type": "code",
   "execution_count": 18,
   "metadata": {},
   "outputs": [
    {
     "data": {
      "image/png": "[encoded data removed]",
      "text/plain": [
       "<Figure size 640x480 with 1 Axes>"
      ]
     },
     "metadata": {},
     "output_type": "display_data"
    }
   ],
   "source": [
    "# Plotting silhouette scores for different K values\n",
    "plt.plot(k_values, silhouette_scores, 'bx-')\n",
    "plt.xlabel('Number of Clusters (K)')\n",
    "plt.ylabel('Silhouette Score')\n",
    "plt.title('Silhouette Score for K-means Clustering')\n",
    "plt.show()"
   ]
  },
  {
   "cell_type": "code",
   "execution_count": 21,
   "metadata": {},
   "outputs": [
    {
     "name": "stderr",
     "output_type": "stream",
     "text": [
      "/home/dai/anaconda3/lib/python3.11/site-packages/sklearn/cluster/_kmeans.py:870: FutureWarning: The default value of `n_init` will change from 10 to 'auto' in 1.4. Set the value of `n_init` explicitly to suppress the warning\n",
      "  warnings.warn(\n"
     ]
    }
   ],
   "source": [
    "# Choose the best K based on the plot or any other criteria\n",
    "best_k = k_values[silhouette_scores.index(max(silhouette_scores))]\n",
    "\n",
    "# Perform clustering with the best K\n",
    "kmeans = KMeans(n_clusters=best_k, random_state=42)\n",
    "kmeans.fit(X_train_counts)\n",
    "df['Cluster'] = kmeans.labels_"
   ]
  },
  {
   "cell_type": "code",
   "execution_count": 23,
   "metadata": {},
   "outputs": [
    {
     "name": "stdout",
     "output_type": "stream",
     "text": [
      "Cluster 0:\n",
      "3       From: viking@iastate.edu (Dan Sorenson)\\nSubje...\n",
      "5       From: kennejs@a.cs.okstate.edu (KENNEDY JAMES ...\n",
      "14      From: jmd@cube.handheld.com (Jim De Arras)\\nSu...\n",
      "19      Subject: thanks to poster of NY Times article ...\n",
      "20      From: cdt@sw.stratus.com (C. D. Tavares)\\nSubj...\n",
      "                              ...                        \n",
      "1708    From: awesley@vela.acs.oakland.edu (awesley)\\n...\n",
      "1712    From: hambidge@bms.com\\nSubject: Re: Gun Contr...\n",
      "1714    From: mpetro@brtph126.bnr.ca (Myron Petro P030...\n",
      "1715    From: arc@cco.caltech.edu (Aaron Ray Clements)...\n",
      "1720    From: pat@rwing.UUCP (Pat Myrto)\\nSubject: Re:...\n",
      "Name: text, Length: 497, dtype: object\n",
      "--------------------\n",
      "Cluster 1:\n",
      "2       From: xrcjd@mudpuppy.gsfc.nasa.gov (Charles J....\n",
      "8       From: prb@access.digex.com (Pat)\\nSubject: Re:...\n",
      "12      From: leech@cs.unc.edu (Jon Leech)\\nSubject: S...\n",
      "22      From: gene@theporch.raider.net (Gene Wright)\\n...\n",
      "30      From: nsmca@aurora.alaska.edu\\nSubject: Eco-Fr...\n",
      "                              ...                        \n",
      "1699    From: c23st@kocrsv01.delcoelect.com (Spiros Tr...\n",
      "1709    From: 18084TM@msu.edu (Tom)\\nSubject: Space Cl...\n",
      "1711    Subject: Diffs to sci.space/sci.astro Frequent...\n",
      "1717    From: pjs@euclid.JPL.NASA.GOV (Peter J. Scott)...\n",
      "1718    From: lazarus@katarina.dev.cdx.mot.com (John M...\n",
      "Name: text, Length: 349, dtype: object\n",
      "--------------------\n",
      "Cluster 2:\n",
      "16      From: baalke@kelvin.jpl.nasa.gov (Ron Baalke)\\...\n",
      "43      From: higgins@fnalf.fnal.gov (Bill Higgins-- B...\n",
      "47      From: joachim@kih.no (joachim lous)\\nSubject: ...\n",
      "73      From: baalke@kelvin.jpl.nasa.gov (Ron Baalke)\\...\n",
      "115     Subject: Re: Comet in Temporary Orbit Around J...\n",
      "150     From: seale@possum.den.mmc.com (Eric H Seale)\\...\n",
      "157     From: lusardi@cs.buffalo.edu (Christopher Lusa...\n",
      "205     From: bio1@navi.up.ac.za (Fourie Joubert)\\nSub...\n",
      "206     From: \"james kewageshig\" <james.kewageshig@can...\n",
      "257     From: baalke@kelvin.jpl.nasa.gov (Ron Baalke)\\...\n",
      "303     From: lm001@rrz.Uni-Koeln.DE (Erwin H. Keeve)\\...\n",
      "316     From: joachim@kih.no (joachim lous)\\nSubject: ...\n",
      "330     From: baalke@kelvin.jpl.nasa.gov (Ron Baalke)\\...\n",
      "334     From: S_BRAUN@IRAV19.ira.uka.de (Thomas Braun)...\n",
      "335     From: baalke@kelvin.jpl.nasa.gov (Ron Baalke)\\...\n",
      "365     From: freemant@dcs.glasgow.ac.uk (Toby Freeman...\n",
      "380     From: baalke@kelvin.jpl.nasa.gov (Ron Baalke)\\...\n",
      "386     From: kai_h@postoffice.utas.edu.au (Kai Howell...\n",
      "492     From: baalke@kelvin.jpl.nasa.gov (Ron Baalke)\\...\n",
      "551     From: baalke@kelvin.jpl.nasa.gov (Ron Baalke)\\...\n",
      "558     From: fombaron@ufrima.imag.fr (FOMBARON marc)\\...\n",
      "741     From: baalke@kelvin.jpl.nasa.gov (Ron Baalke)\\...\n",
      "784     From: baalke@kelvin.jpl.nasa.gov (Ron Baalke)\\...\n",
      "825     From: baalke@kelvin.jpl.nasa.gov (Ron Baalke)\\...\n",
      "830     From: DPierce@world.std.com (Richard D Pierce)...\n",
      "857     From: baalke@kelvin.jpl.nasa.gov (Ron Baalke)\\...\n",
      "883     From: pgf@srl03.cacs.usl.edu (Phil G. Fraering...\n",
      "1026    From: noble@possum.den.mmc.com (Joe A Noble)\\n...\n",
      "1038    From: jmuller@ic.sunysb.edu (John S Muller)\\nS...\n",
      "1058    From: freemant@dcs.glasgow.ac.uk (Toby Freeman...\n",
      "1060    From: baalke@kelvin.jpl.nasa.gov (Ron Baalke)\\...\n",
      "1085    From: baalke@kelvin.jpl.nasa.gov (Ron Baalke)\\...\n",
      "1154    From: prb@access.digex.com (Pat)\\nSubject: Re:...\n",
      "1155    From: baalke@kelvin.jpl.nasa.gov (Ron Baalke)\\...\n",
      "1170    From: baalke@kelvin.jpl.nasa.gov (Ron Baalke)\\...\n",
      "1229    From: baalke@kelvin.jpl.nasa.gov (Ron Baalke)\\...\n",
      "1287    From: baalke@kelvin.jpl.nasa.gov (Ron Baalke)\\...\n",
      "1359    From: baalke@kelvin.jpl.nasa.gov (Ron Baalke)\\...\n",
      "1386    From: agc@bmdhh286.bnr.ca (Alan Carter)\\nSubje...\n",
      "1392    From: lm001@rrz.Uni-Koeln.DE (Erwin H. Keeve)\\...\n",
      "1528    From: baalke@kelvin.jpl.nasa.gov (Ron Baalke)\\...\n",
      "1544    From: jhwitten@cs.ruu.nl (Jurriaan Wittenberg)...\n",
      "1572    From: baalke@kelvin.jpl.nasa.gov (Ron Baalke)\\...\n",
      "1604    From: slack@boi.hp.com (David Slack)\\nSubject:...\n",
      "1649    From: joachim@kih.no (joachim lous)\\nSubject: ...\n",
      "Name: text, dtype: object\n",
      "--------------------\n",
      "Cluster 3:\n",
      "0       From: jgarland@kean.ucs.mun.ca\\nSubject: Re: C...\n",
      "1       From: rgc3679@bcstec.ca.boeing.com (Robert G. ...\n",
      "4       From: mbc@po.CWRU.Edu (Michael B. Comet)\\nSubj...\n",
      "6       From: sheaffer@netcom.com (Robert Sheaffer)\\nS...\n",
      "7       From: msjohnso@donald.WichitaKS.NCR.COM (Mark ...\n",
      "                              ...                        \n",
      "1713    From: squeegee@world.std.com (Stephen C. Gilar...\n",
      "1716    From: tnyurkiw@descartes.uwaterloo.ca (TN)\\nSu...\n",
      "1719    From: abdkw@stdvax (David Ward)\\nSubject: Re: ...\n",
      "1721    From: Amruth Laxman <al26+@andrew.cmu.edu>\\nSu...\n",
      "1722    From: hans@cs.kuleuven.ac.be (Hans Baele)\\nSub...\n",
      "Name: text, Length: 832, dtype: object\n",
      "--------------------\n"
     ]
    }
   ],
   "source": [
    "# Displaying the clusters\n",
    "for cluster_id in range(best_k):\n",
    "    print(f\"Cluster {cluster_id}:\")\n",
    "    print(df[df['Cluster'] == cluster_id]['text'])\n",
    "    print(\"--------------------\")"
   ]
  }
 ],
 "metadata": {
  "kernelspec": {
   "display_name": "base",
   "language": "python",
   "name": "python3"
  },
  "language_info": {
   "codemirror_mode": {
    "name": "ipython",
    "version": 3
   },
   "file_extension": ".py",
   "mimetype": "text/x-python",
   "name": "python",
   "nbconvert_exporter": "python",
   "pygments_lexer": "ipython3",
   "version": "3.11.5"
  }
 },
 "nbformat": 4,
 "nbformat_minor": 2
}
